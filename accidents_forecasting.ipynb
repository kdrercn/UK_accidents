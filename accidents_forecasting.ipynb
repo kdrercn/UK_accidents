{
 "cells": [
  {
   "cell_type": "markdown",
   "metadata": {},
   "source": [
    "### Kütüphaneler"
   ]
  },
  {
   "cell_type": "code",
   "execution_count": 33,
   "metadata": {},
   "outputs": [],
   "source": [
    "# Gerekli kütüphaneleri içe aktarın\n",
    "import numpy as np\n",
    "import pandas as pd\n",
    "from sklearn.model_selection import train_test_split\n",
    "from sklearn.preprocessing import StandardScaler\n",
    "from keras.models import Sequential\n",
    "from keras.layers import Dense"
   ]
  },
  {
   "cell_type": "markdown",
   "metadata": {},
   "source": [
    "### Veri Seti"
   ]
  },
  {
   "cell_type": "code",
   "execution_count": 34,
   "metadata": {},
   "outputs": [],
   "source": [
    "data = pd.read_csv(\"data/final_data.csv\")"
   ]
  },
  {
   "cell_type": "code",
   "execution_count": 35,
   "metadata": {},
   "outputs": [
    {
     "data": {
      "text/html": [
       "<div>\n",
       "<style scoped>\n",
       "    .dataframe tbody tr th:only-of-type {\n",
       "        vertical-align: middle;\n",
       "    }\n",
       "\n",
       "    .dataframe tbody tr th {\n",
       "        vertical-align: top;\n",
       "    }\n",
       "\n",
       "    .dataframe thead th {\n",
       "        text-align: right;\n",
       "    }\n",
       "</style>\n",
       "<table border=\"1\" class=\"dataframe\">\n",
       "  <thead>\n",
       "    <tr style=\"text-align: right;\">\n",
       "      <th></th>\n",
       "      <th>Unnamed: 0</th>\n",
       "      <th>Longitude</th>\n",
       "      <th>Latitude</th>\n",
       "      <th>Accident_Severity</th>\n",
       "      <th>Number_of_Vehicles</th>\n",
       "      <th>Number_of_Casualties</th>\n",
       "      <th>1st_Road_Class</th>\n",
       "      <th>Road_Type</th>\n",
       "      <th>Speed_limit</th>\n",
       "      <th>Junction_Control</th>\n",
       "      <th>Weather_Conditions</th>\n",
       "      <th>Special_Conditions_at_Site</th>\n",
       "      <th>Urban_or_Rural_Area</th>\n",
       "      <th>Year</th>\n",
       "      <th>Darkness_Presence</th>\n",
       "      <th>Road_Surface_Conditions_Ordinal</th>\n",
       "      <th>datetime</th>\n",
       "    </tr>\n",
       "  </thead>\n",
       "  <tbody>\n",
       "    <tr>\n",
       "      <th>899052</th>\n",
       "      <td>899055</td>\n",
       "      <td>-0.021451</td>\n",
       "      <td>51.409915</td>\n",
       "      <td>3</td>\n",
       "      <td>1</td>\n",
       "      <td>1</td>\n",
       "      <td>6</td>\n",
       "      <td>Single carriageway</td>\n",
       "      <td>30</td>\n",
       "      <td>Giveway or uncontrolled</td>\n",
       "      <td>0</td>\n",
       "      <td>No Special Conditions or Not Specified</td>\n",
       "      <td>1</td>\n",
       "      <td>2011</td>\n",
       "      <td>0</td>\n",
       "      <td>5</td>\n",
       "      <td>2011-07-01T17:08:00.000000Z</td>\n",
       "    </tr>\n",
       "    <tr>\n",
       "      <th>293761</th>\n",
       "      <td>293761</td>\n",
       "      <td>-1.136518</td>\n",
       "      <td>52.952418</td>\n",
       "      <td>2</td>\n",
       "      <td>3</td>\n",
       "      <td>6</td>\n",
       "      <td>3</td>\n",
       "      <td>Single carriageway</td>\n",
       "      <td>30</td>\n",
       "      <td>Not Specified</td>\n",
       "      <td>0</td>\n",
       "      <td>No Special Conditions or Not Specified</td>\n",
       "      <td>1</td>\n",
       "      <td>2006</td>\n",
       "      <td>1</td>\n",
       "      <td>5</td>\n",
       "      <td>2006-03-03T19:58:00.000000Z</td>\n",
       "    </tr>\n",
       "    <tr>\n",
       "      <th>1212361</th>\n",
       "      <td>1212369</td>\n",
       "      <td>-2.222810</td>\n",
       "      <td>53.692066</td>\n",
       "      <td>3</td>\n",
       "      <td>1</td>\n",
       "      <td>1</td>\n",
       "      <td>6</td>\n",
       "      <td>Single carriageway</td>\n",
       "      <td>30</td>\n",
       "      <td>Giveway or uncontrolled</td>\n",
       "      <td>0</td>\n",
       "      <td>No Special Conditions or Not Specified</td>\n",
       "      <td>1</td>\n",
       "      <td>2013</td>\n",
       "      <td>0</td>\n",
       "      <td>5</td>\n",
       "      <td>2013-07-18T13:13:00.000000Z</td>\n",
       "    </tr>\n",
       "    <tr>\n",
       "      <th>614872</th>\n",
       "      <td>614874</td>\n",
       "      <td>-1.617277</td>\n",
       "      <td>54.950988</td>\n",
       "      <td>3</td>\n",
       "      <td>2</td>\n",
       "      <td>1</td>\n",
       "      <td>4</td>\n",
       "      <td>Single carriageway</td>\n",
       "      <td>30</td>\n",
       "      <td>Automatic traffic signal</td>\n",
       "      <td>0</td>\n",
       "      <td>No Special Conditions or Not Specified</td>\n",
       "      <td>1</td>\n",
       "      <td>2009</td>\n",
       "      <td>0</td>\n",
       "      <td>5</td>\n",
       "      <td>2009-05-19T13:00:00.000000Z</td>\n",
       "    </tr>\n",
       "    <tr>\n",
       "      <th>983494</th>\n",
       "      <td>983500</td>\n",
       "      <td>0.231093</td>\n",
       "      <td>51.487216</td>\n",
       "      <td>3</td>\n",
       "      <td>2</td>\n",
       "      <td>1</td>\n",
       "      <td>6</td>\n",
       "      <td>Single carriageway</td>\n",
       "      <td>30</td>\n",
       "      <td>Not Specified</td>\n",
       "      <td>0</td>\n",
       "      <td>No Special Conditions or Not Specified</td>\n",
       "      <td>1</td>\n",
       "      <td>2011</td>\n",
       "      <td>0</td>\n",
       "      <td>5</td>\n",
       "      <td>2011-03-14T08:10:00.000000Z</td>\n",
       "    </tr>\n",
       "    <tr>\n",
       "      <th>1234846</th>\n",
       "      <td>1234854</td>\n",
       "      <td>-1.147149</td>\n",
       "      <td>53.425946</td>\n",
       "      <td>3</td>\n",
       "      <td>1</td>\n",
       "      <td>2</td>\n",
       "      <td>3</td>\n",
       "      <td>Single carriageway</td>\n",
       "      <td>60</td>\n",
       "      <td>Not Specified</td>\n",
       "      <td>0</td>\n",
       "      <td>No Special Conditions or Not Specified</td>\n",
       "      <td>2</td>\n",
       "      <td>2013</td>\n",
       "      <td>2</td>\n",
       "      <td>4</td>\n",
       "      <td>2013-11-17T00:40:00.000000Z</td>\n",
       "    </tr>\n",
       "    <tr>\n",
       "      <th>869262</th>\n",
       "      <td>869265</td>\n",
       "      <td>-1.831646</td>\n",
       "      <td>50.728601</td>\n",
       "      <td>3</td>\n",
       "      <td>3</td>\n",
       "      <td>1</td>\n",
       "      <td>3</td>\n",
       "      <td>Single carriageway</td>\n",
       "      <td>30</td>\n",
       "      <td>Giveway or uncontrolled</td>\n",
       "      <td>0</td>\n",
       "      <td>No Special Conditions or Not Specified</td>\n",
       "      <td>1</td>\n",
       "      <td>2010</td>\n",
       "      <td>0</td>\n",
       "      <td>5</td>\n",
       "      <td>2010-06-24T13:35:00.000000Z</td>\n",
       "    </tr>\n",
       "    <tr>\n",
       "      <th>285017</th>\n",
       "      <td>285017</td>\n",
       "      <td>-2.052942</td>\n",
       "      <td>52.329756</td>\n",
       "      <td>3</td>\n",
       "      <td>4</td>\n",
       "      <td>1</td>\n",
       "      <td>3</td>\n",
       "      <td>Dual carriageway</td>\n",
       "      <td>60</td>\n",
       "      <td>Automatic traffic signal</td>\n",
       "      <td>0</td>\n",
       "      <td>No Special Conditions or Not Specified</td>\n",
       "      <td>1</td>\n",
       "      <td>2006</td>\n",
       "      <td>0</td>\n",
       "      <td>4</td>\n",
       "      <td>2006-08-19T19:25:00.000000Z</td>\n",
       "    </tr>\n",
       "    <tr>\n",
       "      <th>1387882</th>\n",
       "      <td>1387892</td>\n",
       "      <td>-1.879747</td>\n",
       "      <td>52.505647</td>\n",
       "      <td>3</td>\n",
       "      <td>1</td>\n",
       "      <td>4</td>\n",
       "      <td>2</td>\n",
       "      <td>Dual carriageway</td>\n",
       "      <td>50</td>\n",
       "      <td>Not Specified</td>\n",
       "      <td>0</td>\n",
       "      <td>No Special Conditions or Not Specified</td>\n",
       "      <td>1</td>\n",
       "      <td>2014</td>\n",
       "      <td>1</td>\n",
       "      <td>5</td>\n",
       "      <td>2014-09-26T03:00:00.000000Z</td>\n",
       "    </tr>\n",
       "  </tbody>\n",
       "</table>\n",
       "</div>"
      ],
      "text/plain": [
       "         Unnamed: 0  Longitude   Latitude  Accident_Severity  \\\n",
       "899052       899055  -0.021451  51.409915                  3   \n",
       "293761       293761  -1.136518  52.952418                  2   \n",
       "1212361     1212369  -2.222810  53.692066                  3   \n",
       "614872       614874  -1.617277  54.950988                  3   \n",
       "983494       983500   0.231093  51.487216                  3   \n",
       "1234846     1234854  -1.147149  53.425946                  3   \n",
       "869262       869265  -1.831646  50.728601                  3   \n",
       "285017       285017  -2.052942  52.329756                  3   \n",
       "1387882     1387892  -1.879747  52.505647                  3   \n",
       "\n",
       "         Number_of_Vehicles  Number_of_Casualties  1st_Road_Class  \\\n",
       "899052                    1                     1               6   \n",
       "293761                    3                     6               3   \n",
       "1212361                   1                     1               6   \n",
       "614872                    2                     1               4   \n",
       "983494                    2                     1               6   \n",
       "1234846                   1                     2               3   \n",
       "869262                    3                     1               3   \n",
       "285017                    4                     1               3   \n",
       "1387882                   1                     4               2   \n",
       "\n",
       "                  Road_Type  Speed_limit          Junction_Control  \\\n",
       "899052   Single carriageway           30   Giveway or uncontrolled   \n",
       "293761   Single carriageway           30             Not Specified   \n",
       "1212361  Single carriageway           30   Giveway or uncontrolled   \n",
       "614872   Single carriageway           30  Automatic traffic signal   \n",
       "983494   Single carriageway           30             Not Specified   \n",
       "1234846  Single carriageway           60             Not Specified   \n",
       "869262   Single carriageway           30   Giveway or uncontrolled   \n",
       "285017     Dual carriageway           60  Automatic traffic signal   \n",
       "1387882    Dual carriageway           50             Not Specified   \n",
       "\n",
       "         Weather_Conditions              Special_Conditions_at_Site  \\\n",
       "899052                    0  No Special Conditions or Not Specified   \n",
       "293761                    0  No Special Conditions or Not Specified   \n",
       "1212361                   0  No Special Conditions or Not Specified   \n",
       "614872                    0  No Special Conditions or Not Specified   \n",
       "983494                    0  No Special Conditions or Not Specified   \n",
       "1234846                   0  No Special Conditions or Not Specified   \n",
       "869262                    0  No Special Conditions or Not Specified   \n",
       "285017                    0  No Special Conditions or Not Specified   \n",
       "1387882                   0  No Special Conditions or Not Specified   \n",
       "\n",
       "         Urban_or_Rural_Area  Year  Darkness_Presence  \\\n",
       "899052                     1  2011                  0   \n",
       "293761                     1  2006                  1   \n",
       "1212361                    1  2013                  0   \n",
       "614872                     1  2009                  0   \n",
       "983494                     1  2011                  0   \n",
       "1234846                    2  2013                  2   \n",
       "869262                     1  2010                  0   \n",
       "285017                     1  2006                  0   \n",
       "1387882                    1  2014                  1   \n",
       "\n",
       "         Road_Surface_Conditions_Ordinal                     datetime  \n",
       "899052                                 5  2011-07-01T17:08:00.000000Z  \n",
       "293761                                 5  2006-03-03T19:58:00.000000Z  \n",
       "1212361                                5  2013-07-18T13:13:00.000000Z  \n",
       "614872                                 5  2009-05-19T13:00:00.000000Z  \n",
       "983494                                 5  2011-03-14T08:10:00.000000Z  \n",
       "1234846                                4  2013-11-17T00:40:00.000000Z  \n",
       "869262                                 5  2010-06-24T13:35:00.000000Z  \n",
       "285017                                 4  2006-08-19T19:25:00.000000Z  \n",
       "1387882                                5  2014-09-26T03:00:00.000000Z  "
      ]
     },
     "execution_count": 35,
     "metadata": {},
     "output_type": "execute_result"
    }
   ],
   "source": [
    "data.sample(9)"
   ]
  },
  {
   "cell_type": "markdown",
   "metadata": {},
   "source": [
    "### Tarih verisini yıl, ay, gün olarak ayırma"
   ]
  },
  {
   "cell_type": "code",
   "execution_count": 36,
   "metadata": {},
   "outputs": [],
   "source": [
    "data[\"datetime\"] = pd.to_datetime(data[\"datetime\"])"
   ]
  },
  {
   "cell_type": "code",
   "execution_count": 37,
   "metadata": {},
   "outputs": [],
   "source": [
    "data[\"Year\"] = data[\"datetime\"].dt.year\n",
    "data[\"Month\"] = data[\"datetime\"].dt.month\n",
    "data[\"Day\"] = data[\"datetime\"].dt.day"
   ]
  },
  {
   "cell_type": "markdown",
   "metadata": {},
   "source": [
    "### Yapay Sinir Ağı Modeli"
   ]
  },
  {
   "cell_type": "code",
   "execution_count": 53,
   "metadata": {},
   "outputs": [
    {
     "name": "stdout",
     "output_type": "stream",
     "text": [
      "Epoch 1/5\n",
      "36740/36740 [==============================] - 81s 2ms/step - loss: 11.7898 - val_loss: 6.4670e-04\n",
      "Epoch 2/5\n",
      "36740/36740 [==============================] - 80s 2ms/step - loss: 0.0010 - val_loss: 9.4094e-05\n",
      "Epoch 3/5\n",
      "36740/36740 [==============================] - 69s 2ms/step - loss: 5.4181e-04 - val_loss: 0.0054\n",
      "Epoch 4/5\n",
      "36740/36740 [==============================] - 69s 2ms/step - loss: 4.9239e-04 - val_loss: 7.4106e-06\n",
      "Epoch 5/5\n",
      "36740/36740 [==============================] - 70s 2ms/step - loss: 4.0071e-04 - val_loss: 2.6365e-05\n"
     ]
    },
    {
     "data": {
      "text/plain": [
       "<keras.src.callbacks.History at 0x1eea2563b10>"
      ]
     },
     "execution_count": 53,
     "metadata": {},
     "output_type": "execute_result"
    }
   ],
   "source": [
    "# Veri setinin bölünmesi\n",
    "X = data[[\"Year\", \"Month\", \"Day\", \"Longitude\", \"Latitude\", \"Number_of_Casualties\", \"Speed_limit\", \"Weather_Conditions\", \"Urban_or_Rural_Area\", \"Darkness_Presence\", \"Road_Surface_Conditions_Ordinal\"]]\n",
    "y = data[[\"Longitude\", \"Latitude\"]]\n",
    "\n",
    "# Eğitim - Test kümeleri\n",
    "X_train, X_test, y_train, y_test = train_test_split(X, y, test_size=0.2, random_state=42)\n",
    "\n",
    "# Ölçeklendirme\n",
    "scaler = StandardScaler()\n",
    "X_train = scaler.fit_transform(X_train)\n",
    "X_test = scaler.transform(X_test)\n",
    "\n",
    "# Yapay sinir ağı modeli\n",
    "model = Sequential()\n",
    "model.add(Dense(8, input_dim=X_train.shape[1], activation=\"relu\"))\n",
    "model.add(Dense(16, activation=\"relu\"))\n",
    "model.add(Dense(2)) \n",
    "\n",
    "# Modelin derlenmesi\n",
    "model.compile(loss=\"mean_squared_error\", optimizer=\"adam\")\n",
    "\n",
    "# Modelin eğitimi\n",
    "model.fit(X_train, y_train, epochs=5, batch_size=32, validation_data=(X_test, y_test))\n"
   ]
  },
  {
   "cell_type": "markdown",
   "metadata": {},
   "source": [
    "### Tahmin"
   ]
  },
  {
   "cell_type": "code",
   "execution_count": 54,
   "metadata": {},
   "outputs": [
    {
     "name": "stdout",
     "output_type": "stream",
     "text": [
      "9185/9185 [==============================] - 13s 1ms/step\n"
     ]
    }
   ],
   "source": [
    "predictions = model.predict(X_test)"
   ]
  },
  {
   "cell_type": "markdown",
   "metadata": {},
   "source": [
    "#### Test"
   ]
  },
  {
   "cell_type": "code",
   "execution_count": 55,
   "metadata": {},
   "outputs": [
    {
     "name": "stdout",
     "output_type": "stream",
     "text": [
      "Gerçek Konum: Longitude     0.268551\n",
      "Latitude     51.135392\n",
      "Name: 1002983, dtype: float64\n",
      "Tahmin Edilen Konum: [ 0.2683884 51.127556 ]\n"
     ]
    }
   ],
   "source": [
    "# Örnek için rastgele bir tahmin alınması\n",
    "sample_index = 158616\n",
    "predicted_location = predictions[sample_index]\n",
    "real_location = y_test.iloc[sample_index]\n",
    "\n",
    "print(\"Gerçek Konum:\", real_location)\n",
    "print(\"Tahmin Edilen Konum:\", predicted_location)\n"
   ]
  },
  {
   "cell_type": "markdown",
   "metadata": {},
   "source": [
    "### MSE"
   ]
  },
  {
   "cell_type": "code",
   "execution_count": 56,
   "metadata": {},
   "outputs": [
    {
     "name": "stdout",
     "output_type": "stream",
     "text": [
      "Ortalama Kare Hata (MSE): 2.636525058482364e-05\n"
     ]
    }
   ],
   "source": [
    "from sklearn.metrics import mean_squared_error\n",
    "\n",
    "mse = mean_squared_error(y_test, predictions)\n",
    "print(\"Ortalama Kare Hata (MSE):\", mse)\n"
   ]
  },
  {
   "cell_type": "code",
   "execution_count": 65,
   "metadata": {},
   "outputs": [
    {
     "name": "stdout",
     "output_type": "stream",
     "text": [
      "1/1 [==============================] - 0s 18ms/step\n",
      "Tahmin Edilen Konum: [[-1.6314106 69.28973  ]]\n"
     ]
    },
    {
     "name": "stderr",
     "output_type": "stream",
     "text": [
      "c:\\Users\\kdrer\\AppData\\Local\\Programs\\Python\\Python311\\Lib\\site-packages\\sklearn\\base.py:465: UserWarning: X does not have valid feature names, but StandardScaler was fitted with feature names\n",
      "  warnings.warn(\n"
     ]
    }
   ],
   "source": [
    "# user_input_year = 2010\n",
    "# user_input_month = 5\n",
    "# user_input_day = 5\n",
    "# user_input_number_of_casualties = 1\n",
    "# user_input_speed_limit = 30\n",
    "# user_input_weather_condition = 0\n",
    "# user_input_urban_or_rural = 1\n",
    "# user_input_darkness_presence = 0\n",
    "# user_input_road_surface_conditions = 5\n",
    "\n",
    "\n",
    "# user_input_features = np.array([[user_input_year, user_input_month, user_input_day, \n",
    "#                                  user_input_number_of_casualties,\n",
    "#                                  user_input_speed_limit,\n",
    "#                                  user_input_weather_condition,\n",
    "#                                  user_input_urban_or_rural,\n",
    "#                                  user_input_darkness_presence,\n",
    "#                                  user_input_road_surface_conditions, \n",
    "#                                  0.268551, \n",
    "#                                  51.135392]])  \n",
    "\n",
    "# user_input_features = scaler.transform(user_input_features)  \n",
    "\n",
    "# predicted_location = model.predict(user_input_features)\n",
    "\n",
    "# print(\"Tahmin Edilen Konum:\", predicted_location)\n"
   ]
  },
  {
   "cell_type": "code",
   "execution_count": null,
   "metadata": {},
   "outputs": [],
   "source": []
  }
 ],
 "metadata": {
  "kernelspec": {
   "display_name": "Python 3",
   "language": "python",
   "name": "python3"
  },
  "language_info": {
   "codemirror_mode": {
    "name": "ipython",
    "version": 3
   },
   "file_extension": ".py",
   "mimetype": "text/x-python",
   "name": "python",
   "nbconvert_exporter": "python",
   "pygments_lexer": "ipython3",
   "version": "3.11.5"
  }
 },
 "nbformat": 4,
 "nbformat_minor": 2
}
