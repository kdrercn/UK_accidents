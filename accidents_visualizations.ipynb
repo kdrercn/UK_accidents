{
 "cells": [
  {
   "cell_type": "markdown",
   "metadata": {},
   "source": [
    "# Data Visualization"
   ]
  },
  {
   "cell_type": "code",
   "execution_count": null,
   "metadata": {},
   "outputs": [],
   "source": [
    "import geopandas as gpd #Library for using Geospatial Dataframes\n",
    "import numpy as np\n",
    "import matplotlib.pyplot as plt\n",
    "from matplotlib.pyplot import figure\n",
    "import seaborn as sns #Library for Data Vizualisation\n",
    "import pandas as pd"
   ]
  },
  {
   "cell_type": "code",
   "execution_count": null,
   "metadata": {},
   "outputs": [],
   "source": [
    "data = pd.read_csv(\"data/clean_data.csv\")"
   ]
  },
  {
   "cell_type": "markdown",
   "metadata": {},
   "source": [
    "## Light Conditions"
   ]
  },
  {
   "cell_type": "markdown",
   "metadata": {},
   "source": [
    "###### NOT: Yoğunluğa göre bakılabilir"
   ]
  },
  {
   "cell_type": "code",
   "execution_count": null,
   "metadata": {},
   "outputs": [],
   "source": [
    "plt.figure(figsize=(20,10))\n",
    "sns.countplot(\n",
    "    data,x=\"Light_Conditions\",\n",
    "    hue=\"Light_Conditions\", \n",
    "    legend=False)"
   ]
  },
  {
   "cell_type": "markdown",
   "metadata": {},
   "source": [
    "##### Işıklandırma verisinin kategorizasyonu"
   ]
  },
  {
   "cell_type": "code",
   "execution_count": null,
   "metadata": {},
   "outputs": [],
   "source": [
    "data[\"Darkness_Presence\"]=data[\"Light_Conditions\"].replace([   \"Daylight: Street light present\",\n",
    "                                                               \"Darkness: Street lights present and lit\",\n",
    "                                                               \"Darkness: Street lighting unknown\",\n",
    "                                                               \"Darkness: Street lights present but unlit\",\n",
    "                                                               \"Darkeness: No street lighting\"], \n",
    "                                                               [0,1,2,2,2])"
   ]
  },
  {
   "cell_type": "code",
   "execution_count": null,
   "metadata": {},
   "outputs": [],
   "source": [
    "data=data.drop([\"Light_Conditions\"],axis=1)"
   ]
  },
  {
   "cell_type": "markdown",
   "metadata": {},
   "source": [
    "## Weather Conditions"
   ]
  },
  {
   "cell_type": "code",
   "execution_count": null,
   "metadata": {},
   "outputs": [],
   "source": [
    "plt.figure(figsize=(20,10))\n",
    "sns.countplot(\n",
    "    data,\n",
    "    x=\"Weather_Conditions\", \n",
    "    hue=\"Weather_Conditions\", \n",
    "    legend=False)"
   ]
  },
  {
   "cell_type": "code",
   "execution_count": null,
   "metadata": {},
   "outputs": [],
   "source": [
    "weather_cond = data[\"Weather_Conditions\"].value_counts()\n",
    "\n",
    "figure(\n",
    "    figsize=(15, 15), \n",
    "    dpi=80)\n",
    "\n",
    "plt.pie(\n",
    "    weather_cond.values, \n",
    "    labels = weather_cond.index, \n",
    "    colors = sns.color_palette(),\n",
    "    startangle = 30,\n",
    "    textprops={\"size\": \"medium\"},\n",
    "    explode=(0.02,0.02,0.02,0.02,0.3,0.4,0.3,0.4,0.3),\n",
    "    autopct=\"%1.1f%%\")\n",
    "plt.legend()\n",
    "plt.title(\"How Do Weather Events Impact Accidents\")\n",
    "plt.show()"
   ]
  },
  {
   "cell_type": "markdown",
   "metadata": {},
   "source": [
    "##### Hava durumu verisinin kategorizasyonu"
   ]
  },
  {
   "cell_type": "code",
   "execution_count": null,
   "metadata": {},
   "outputs": [],
   "source": [
    "data[\"Weather_Conditions\"]=data[\"Weather_Conditions\"].replace([\"Raining without high winds\", \n",
    "                                                               \"Fine without high winds\",\n",
    "                                                               \"Snowing without high winds\", \n",
    "                                                               \"Other\", \n",
    "                                                               \"Fine with high winds\",\n",
    "                                                               \"Raining with high winds\", \n",
    "                                                               \"Fog or mist\",\n",
    "                                                               \"Snowing with high winds\"],\n",
    "                                                               [\"No High winds\",\n",
    "                                                                \"No High winds\",\n",
    "                                                                \"No High winds\",\n",
    "                                                                \"No High winds\",\n",
    "                                                                \"High winds\",\n",
    "                                                                \"High winds\",\n",
    "                                                                \"Fog\",\n",
    "                                                                \"High winds\"])"
   ]
  },
  {
   "cell_type": "code",
   "execution_count": null,
   "metadata": {},
   "outputs": [],
   "source": [
    "mapping = {\n",
    "    \"No High winds\": 0,\n",
    "    \"High winds\": 2,\n",
    "    \"Fog\": 0,\n",
    "    \"Unknown\":0\n",
    "}\n",
    "\n",
    "# Use the replace function to convert the column to ordinal values\n",
    "data[\"Weather_Conditions\"] = data[\"Weather_Conditions\"].replace(mapping)"
   ]
  },
  {
   "cell_type": "markdown",
   "metadata": {},
   "source": [
    "## Road Conditions"
   ]
  },
  {
   "cell_type": "code",
   "execution_count": null,
   "metadata": {},
   "outputs": [],
   "source": [
    "plt.figure(figsize=(20,10))\n",
    "palette = [\"r\",\"g\",\"b\",\"orange\",\"purple\"]\n",
    "sns.countplot(\n",
    "    data,x=\"Road_Surface_Conditions\",\n",
    "    hue=\"Road_Surface_Conditions\", \n",
    "    legend=False)"
   ]
  },
  {
   "cell_type": "code",
   "execution_count": null,
   "metadata": {},
   "outputs": [],
   "source": [
    "road_cond = data[\"Road_Surface_Conditions\"].value_counts()\n",
    "\n",
    "figure(\n",
    "    figsize=(15, 15), \n",
    "    dpi=80)\n",
    "\n",
    "plt.pie(\n",
    "    road_cond.values, \n",
    "    labels = road_cond.index, \n",
    "    colors = sns.color_palette(),\n",
    "    startangle = 30,\n",
    "    textprops={\"size\": \"medium\"},\n",
    "    explode=(0.02,0.02,0.02,0.02,0.3,0.4),\n",
    "    autopct=\"%1.1f%%\")\n",
    "plt.legend()\n",
    "plt.title(\"How Do Weather Events Impact Accidents\")\n",
    "plt.show()"
   ]
  },
  {
   "cell_type": "code",
   "execution_count": null,
   "metadata": {},
   "outputs": [],
   "source": [
    "#Display different aggregations to evaluate our dataset\n",
    "def display_aggregation(data, *columns):\n",
    "    H = list(columns)\n",
    "    C= list(columns)\n",
    "    C.append(\"Accident_Index\")\n",
    "    print(C)\n",
    "    print(data[C].groupby(by=H).count().sort_values(by=[H[0]]+[\"Accident_Index\"],ascending=[True,False]).to_string())"
   ]
  },
  {
   "cell_type": "code",
   "execution_count": null,
   "metadata": {},
   "outputs": [],
   "source": [
    "display_aggregation(data,\"Road_Surface_Conditions\")"
   ]
  },
  {
   "cell_type": "code",
   "execution_count": null,
   "metadata": {},
   "outputs": [],
   "source": [
    "mapping = {\n",
    "    \"Dry\": 5,\n",
    "    \"Wet/Damp\": 4,\n",
    "    \"Frost/Ice\": 3,\n",
    "    \"Snow\": 2,\n",
    "    \"Flood (Over 3cm of water)\": 1,\n",
    "    \"Not Specified\": 0,\n",
    "    pd.NA:pd.NA\n",
    "}\n",
    "\n",
    "# Use the replace function to convert the column to ordinal values\n",
    "data[\"Road_Surface_Conditions_Ordinal\"] = data[\"Road_Surface_Conditions\"].replace(mapping)"
   ]
  },
  {
   "cell_type": "code",
   "execution_count": null,
   "metadata": {},
   "outputs": [],
   "source": [
    "sns.countplot(data,x=\"Road_Surface_Conditions_Ordinal\", order=data[\"Road_Surface_Conditions_Ordinal\"])"
   ]
  },
  {
   "cell_type": "code",
   "execution_count": null,
   "metadata": {},
   "outputs": [],
   "source": [
    "fig, axs = plt.subplots(nrows=2, ncols=2, figsize=(10, 10))\n",
    "variables = [\"Urban_or_Rural_Area\", \"Accident_Severity\",\"Darkness_Presence\", \"Weather_Conditions\"]\n",
    "\n",
    "# Loop through each variable and plot a countplot on a separate subplot\n",
    "for i, var in enumerate(variables):\n",
    "    row = i // 2\n",
    "    col = i % 2\n",
    "    sns.countplot(data, x=\"Road_Surface_Conditions_Ordinal\", hue=var, ax=axs[row, col])\n",
    "    axs[row, col].set_title(var)\n",
    "    axs[row, col].legend(loc=\"upper right\")  # move the legend to upper right corner\n",
    "\n",
    "fig.suptitle(\"Road Surface Conditions vs. Other Variables\")\n",
    "\n",
    "# Adjust the spacing between subplots to avoid overlapping legends\n",
    "fig.tight_layout()\n",
    "\n",
    "plt.show()"
   ]
  },
  {
   "cell_type": "code",
   "execution_count": null,
   "metadata": {},
   "outputs": [],
   "source": [
    "print(\"Number_of_Vehicles\")\n",
    "display_aggregation(data,\"Road_Surface_Conditions_Ordinal\",\"Number_of_Vehicles\")\n",
    "print(\" \")\n",
    "print(\"Number_of_Casualties\")\n",
    "display_aggregation(data,\"Road_Surface_Conditions_Ordinal\",\"Number_of_Casualties\")"
   ]
  },
  {
   "cell_type": "code",
   "execution_count": null,
   "metadata": {},
   "outputs": [],
   "source": [
    "display_aggregation(data,\"Road_Surface_Conditions_Ordinal\")"
   ]
  },
  {
   "cell_type": "code",
   "execution_count": null,
   "metadata": {},
   "outputs": [],
   "source": [
    "data_cleaned = data.copy()\n",
    "data_cleaned[\"Road_Surface_Conditions\"]=data[\"Road_Surface_Conditions_Ordinal\"]\n",
    "data_cleaned"
   ]
  },
  {
   "cell_type": "markdown",
   "metadata": {},
   "source": [
    "##### Junction Control"
   ]
  },
  {
   "cell_type": "code",
   "execution_count": null,
   "metadata": {},
   "outputs": [],
   "source": [
    "display_aggregation(data,\"Junction_Control\")"
   ]
  },
  {
   "cell_type": "markdown",
   "metadata": {},
   "source": [
    "##### Number of Vehicles / Number of Casualties"
   ]
  },
  {
   "cell_type": "code",
   "execution_count": null,
   "metadata": {},
   "outputs": [],
   "source": [
    "sns.scatterplot(data_cleaned,x=\"Number_of_Vehicles\",y=\"Number_of_Casualties\")"
   ]
  },
  {
   "cell_type": "code",
   "execution_count": null,
   "metadata": {},
   "outputs": [],
   "source": [
    "sns.boxplot(data_cleaned[\"Number_of_Vehicles\"])"
   ]
  },
  {
   "cell_type": "code",
   "execution_count": null,
   "metadata": {},
   "outputs": [],
   "source": [
    "sns.boxplot(data_cleaned[\"Number_of_Casualties\"])"
   ]
  },
  {
   "cell_type": "markdown",
   "metadata": {},
   "source": [
    "###### Deleting Outliers"
   ]
  },
  {
   "cell_type": "code",
   "execution_count": null,
   "metadata": {},
   "outputs": [],
   "source": [
    "data_cleaned=data_cleaned[(data_cleaned[\"Number_of_Vehicles\"]<25)&(data_cleaned[\"Number_of_Casualties\"]<50)]"
   ]
  },
  {
   "cell_type": "markdown",
   "metadata": {},
   "source": [
    "##### Pedestrian Crossing Human Control & Pedestrian Crossing Physical Facilities"
   ]
  },
  {
   "cell_type": "code",
   "execution_count": null,
   "metadata": {},
   "outputs": [],
   "source": [
    "custom_palette = [\"#FF5733\", \"#3498DB\", \"#F39C12\", \"#2ECC71\", \"#9B59B6\"]\n",
    "sns.set_palette(custom_palette)"
   ]
  },
  {
   "cell_type": "code",
   "execution_count": null,
   "metadata": {},
   "outputs": [],
   "source": [
    "sns.countplot(data_cleaned,x=\"Pedestrian_Crossing-Human_Control\",\n",
    "              hue=\"Pedestrian_Crossing-Human_Control\")"
   ]
  },
  {
   "cell_type": "code",
   "execution_count": null,
   "metadata": {},
   "outputs": [],
   "source": [
    "plt.figure(figsize=(20,10))\n",
    "sns.countplot(data_cleaned,x= \"Pedestrian_Crossing-Physical_Facilities\", \n",
    "              hue=\"Pedestrian_Crossing-Physical_Facilities\")"
   ]
  },
  {
   "cell_type": "code",
   "execution_count": null,
   "metadata": {},
   "outputs": [],
   "source": [
    "data_cleaned.groupby(by=\"Pedestrian_Crossing-Human_Control\").size()"
   ]
  },
  {
   "cell_type": "markdown",
   "metadata": {},
   "source": [
    "#### Çok anlamlı veri içermedikleri için bu sütunları sildim"
   ]
  },
  {
   "cell_type": "code",
   "execution_count": null,
   "metadata": {},
   "outputs": [],
   "source": [
    "data_cleaned=data_cleaned.drop([\"Pedestrian_Crossing-Human_Control\",\"Pedestrian_Crossing-Physical_Facilities\"],axis=1)"
   ]
  },
  {
   "cell_type": "markdown",
   "metadata": {},
   "source": [
    "## Accidents Severity"
   ]
  },
  {
   "cell_type": "code",
   "execution_count": null,
   "metadata": {},
   "outputs": [],
   "source": [
    "mappings = {\n",
    "    1:\"Killed\",\n",
    "    2:\"Serious\", \n",
    "    3:\"Slight\"\n",
    "}\n",
    "data_copy = data.copy()\n",
    "\n",
    "data_copy[\"Accident_Severity_Index\"] = data_copy[\"Accident_Severity\"].map(mappings)"
   ]
  },
  {
   "cell_type": "code",
   "execution_count": null,
   "metadata": {},
   "outputs": [],
   "source": [
    "plt.figure(figsize=(20,10))\n",
    "sns.countplot(\n",
    "    data_copy,\n",
    "    x=\"Accident_Severity\",\n",
    "    hue=\"Accident_Severity\", \n",
    "    legend=False)"
   ]
  },
  {
   "cell_type": "code",
   "execution_count": null,
   "metadata": {},
   "outputs": [],
   "source": [
    "plt.figure(figsize=(20,10))\n",
    "sns.countplot(\n",
    "    data_copy,\n",
    "    x=\"Accident_Severity_Index\",\n",
    "    hue=\"Accident_Severity_Index\", \n",
    "    legend=False)"
   ]
  },
  {
   "cell_type": "markdown",
   "metadata": {},
   "source": [
    "## Accidents by year and weekdays"
   ]
  },
  {
   "cell_type": "code",
   "execution_count": null,
   "metadata": {},
   "outputs": [],
   "source": [
    "mappings = {\n",
    "    1:\"Monday\",\n",
    "    2:\"Tuesday\", \n",
    "    3:\"Wednesday\",\n",
    "    4:\"Thursday\",\n",
    "    5:\"Friday\", \n",
    "    6:\"Saturday\",\n",
    "    7:\"Sunday\"\n",
    "}\n",
    "data_copy1 = data.copy()\n",
    "\n",
    "data_copy1[\"Day_of_Week_Index\"] = data_copy1[\"Day_of_Week\"].map(mappings)\n",
    "week1 = data_copy1[\"Day_of_Week_Index\"].value_counts()\n",
    "sorter = [\"Monday\", \"Tuesday\",\"Wednesday\",\"Thursday\",\"Friday\",\"Saturday\",\"Sunday\"]\n",
    "week2 = week1.reindex(sorter)\n",
    "week2.index"
   ]
  },
  {
   "cell_type": "code",
   "execution_count": null,
   "metadata": {},
   "outputs": [],
   "source": [
    "year = data[\"Year\"].value_counts()\n",
    "week = data[\"Day_of_Week\"].value_counts()\n",
    "week1 = data_copy1[\"Day_of_Week_Index\"].value_counts()\n",
    "\n",
    "plt.figure(figsize = (20,9),facecolor=\"grey\")\n",
    "plt.subplot(1, 2, 1)\n",
    "\n",
    "sns.barplot(x = year.index, y = year.values)\n",
    "plt.ylabel(\"Number of Accidents\",weight=\"bold\")\n",
    "plt.xlabel(\"Years\",weight=\"bold\")\n",
    "\n",
    "plt.title(\"Number of Traffic Acciddents By years\",weight=\"bold\")\n",
    "\n",
    "plt.subplot(1, 2, 2)\n",
    "\n",
    "plt.barh(week2.index,week2.values)\n",
    "plt.title(\"Number of Traffic Acciddents By Weekdays\",weight=\"bold\")\n",
    "plt.xlabel(\"Number of Accidents\",weight=\"bold\")\n",
    "plt.ylabel(\"Weekdays\",weight=\"bold\")\n",
    "plt.show()"
   ]
  },
  {
   "cell_type": "code",
   "execution_count": null,
   "metadata": {},
   "outputs": [],
   "source": [
    "#Get Month as a temporary column\n",
    "data[\"int-Date\"]=data[\"Date\"].apply(lambda x:int(x[3:5]))\n",
    "#Get Hour as a temporary column\n",
    "data[\"int-Time\"]=data[\"Time\"].apply(lambda x:int(str(x)[0:2]))"
   ]
  },
  {
   "cell_type": "code",
   "execution_count": null,
   "metadata": {},
   "outputs": [],
   "source": [
    "display_aggregation(data_cleaned,\"Day_of_Week\",\"Accident_Severity\")"
   ]
  },
  {
   "cell_type": "markdown",
   "metadata": {},
   "source": [
    "#### 2nd Road Class"
   ]
  },
  {
   "cell_type": "code",
   "execution_count": null,
   "metadata": {},
   "outputs": [],
   "source": [
    "plt.figure(figsize=(10,10))\n",
    "sns.countplot(data_cleaned,hue=\"2nd_Road_Class\",x=\"Accident_Severity\")"
   ]
  },
  {
   "cell_type": "code",
   "execution_count": null,
   "metadata": {},
   "outputs": [],
   "source": [
    "plt.figure(figsize=(10,10))\n",
    "data_test=data_cleaned[(data_cleaned[\"2nd_Road_Class\"].isin([-1,6]))==False]\n",
    "sns.countplot(data_test,hue=\"2nd_Road_Class\",x=\"Accident_Severity\")"
   ]
  },
  {
   "cell_type": "markdown",
   "metadata": {},
   "source": [
    "##### Çok anlamlı veri içermediği için 2nd Road Class sütununu sildim."
   ]
  },
  {
   "cell_type": "code",
   "execution_count": null,
   "metadata": {},
   "outputs": [],
   "source": [
    "data_cleaned=data_cleaned.drop([\"2nd_Road_Class\",\"2nd_Road_Number\"],axis=1)"
   ]
  },
  {
   "cell_type": "markdown",
   "metadata": {},
   "source": [
    "#### Special Conditions at Site"
   ]
  },
  {
   "cell_type": "code",
   "execution_count": null,
   "metadata": {},
   "outputs": [],
   "source": [
    "data_cleaned.groupby(by=[\"Special_Conditions_at_Site\"]).size()"
   ]
  },
  {
   "cell_type": "code",
   "execution_count": null,
   "metadata": {},
   "outputs": [],
   "source": [
    "sns.countplot(data_cleaned.loc[data_cleaned[\"Special_Conditions_at_Site\"]!=\"None\"],hue=\"Special_Conditions_at_Site\",x=\"Accident_Severity\")"
   ]
  },
  {
   "cell_type": "markdown",
   "metadata": {},
   "source": [
    "### Veri incelendi ve görselleştirildi. Elde edilen sonuçlara göre son temizleme işlemleri yapıldı."
   ]
  },
  {
   "cell_type": "code",
   "execution_count": null,
   "metadata": {},
   "outputs": [],
   "source": [
    "data_cleaned.to_csv(\"data/data_cleaned.csv\")"
   ]
  },
  {
   "cell_type": "code",
   "execution_count": null,
   "metadata": {},
   "outputs": [],
   "source": [
    "final_data=data_cleaned.drop([\"Local_Authority_(District)\",\n",
    "                              \"Local_Authority_(Highway)\",\n",
    "                              \"Carriageway_Hazards\",\n",
    "                              \"Accident_Index\",\n",
    "                              \"Police_Force\",\n",
    "                              \"1st_Road_Number\"],\n",
    "                            axis=1)"
   ]
  },
  {
   "cell_type": "code",
   "execution_count": null,
   "metadata": {},
   "outputs": [],
   "source": [
    "final_data[\"datetime\"] = pd.to_datetime(final_data[\"Date\"] + \" \" + final_data[\"Time\"], format=\"%d/%m/%Y %H:%M\")\n",
    "\n",
    "# convert the datetime column to ISO 8601 format\n",
    "final_data[\"datetime\"] = final_data[\"datetime\"].dt.strftime(\"%Y-%m-%dT%H:%M:%S.%fZ\")"
   ]
  },
  {
   "cell_type": "code",
   "execution_count": null,
   "metadata": {},
   "outputs": [],
   "source": [
    "final_data=final_data.drop([\"Date\",\"Time\",\"Location_Easting_OSGR\",\"Location_Northing_OSGR\",\"Day_of_Week\",\"Road_Surface_Conditions\"],axis=1)"
   ]
  },
  {
   "cell_type": "code",
   "execution_count": null,
   "metadata": {},
   "outputs": [],
   "source": [
    "final_data=final_data.drop([\"Unnamed: 0\"],axis=1)"
   ]
  },
  {
   "cell_type": "code",
   "execution_count": null,
   "metadata": {},
   "outputs": [],
   "source": [
    "# final_data=final_data.drop([\"int-Time\",\"int-Date\"],axis=1)"
   ]
  },
  {
   "cell_type": "code",
   "execution_count": null,
   "metadata": {},
   "outputs": [],
   "source": [
    "final_data.head()"
   ]
  }
 ],
 "metadata": {
  "kernelspec": {
   "display_name": "Python 3",
   "language": "python",
   "name": "python3"
  },
  "language_info": {
   "codemirror_mode": {
    "name": "ipython",
    "version": 3
   },
   "file_extension": ".py",
   "mimetype": "text/x-python",
   "name": "python",
   "nbconvert_exporter": "python",
   "pygments_lexer": "ipython3",
   "version": "3.11.5"
  },
  "orig_nbformat": 4
 },
 "nbformat": 4,
 "nbformat_minor": 2
}
