{
 "cells": [
  {
   "cell_type": "markdown",
   "metadata": {},
   "source": [
    "### Kütüphanelerin Yüklenmesi"
   ]
  },
  {
   "cell_type": "code",
   "execution_count": 1,
   "metadata": {},
   "outputs": [],
   "source": [
    "import pandas as pd"
   ]
  },
  {
   "cell_type": "markdown",
   "metadata": {},
   "source": [
    "### Veri Yüklenmesi"
   ]
  },
  {
   "cell_type": "code",
   "execution_count": 2,
   "metadata": {},
   "outputs": [],
   "source": [
    "data = pd.read_csv(\"data/clean_data.csv\")"
   ]
  },
  {
   "cell_type": "code",
   "execution_count": 3,
   "metadata": {},
   "outputs": [
    {
     "data": {
      "text/html": [
       "<div>\n",
       "<style scoped>\n",
       "    .dataframe tbody tr th:only-of-type {\n",
       "        vertical-align: middle;\n",
       "    }\n",
       "\n",
       "    .dataframe tbody tr th {\n",
       "        vertical-align: top;\n",
       "    }\n",
       "\n",
       "    .dataframe thead th {\n",
       "        text-align: right;\n",
       "    }\n",
       "</style>\n",
       "<table border=\"1\" class=\"dataframe\">\n",
       "  <thead>\n",
       "    <tr style=\"text-align: right;\">\n",
       "      <th></th>\n",
       "      <th>Unnamed: 0</th>\n",
       "      <th>Accident_Index</th>\n",
       "      <th>Location_Easting_OSGR</th>\n",
       "      <th>Location_Northing_OSGR</th>\n",
       "      <th>Longitude</th>\n",
       "      <th>Latitude</th>\n",
       "      <th>Police_Force</th>\n",
       "      <th>Accident_Severity</th>\n",
       "      <th>Number_of_Vehicles</th>\n",
       "      <th>Number_of_Casualties</th>\n",
       "      <th>...</th>\n",
       "      <th>2nd_Road_Number</th>\n",
       "      <th>Pedestrian_Crossing-Human_Control</th>\n",
       "      <th>Pedestrian_Crossing-Physical_Facilities</th>\n",
       "      <th>Light_Conditions</th>\n",
       "      <th>Weather_Conditions</th>\n",
       "      <th>Road_Surface_Conditions</th>\n",
       "      <th>Special_Conditions_at_Site</th>\n",
       "      <th>Carriageway_Hazards</th>\n",
       "      <th>Urban_or_Rural_Area</th>\n",
       "      <th>Year</th>\n",
       "    </tr>\n",
       "  </thead>\n",
       "  <tbody>\n",
       "    <tr>\n",
       "      <th>772439</th>\n",
       "      <td>772741</td>\n",
       "      <td>2.01007E+12</td>\n",
       "      <td>353000.0</td>\n",
       "      <td>381540.0</td>\n",
       "      <td>-2.707176</td>\n",
       "      <td>53.328666</td>\n",
       "      <td>7</td>\n",
       "      <td>3</td>\n",
       "      <td>1</td>\n",
       "      <td>1</td>\n",
       "      <td>...</td>\n",
       "      <td>0</td>\n",
       "      <td>None within 50 metres</td>\n",
       "      <td>No physical crossing within 50 meters</td>\n",
       "      <td>Daylight: Street light present</td>\n",
       "      <td>Fine without high winds</td>\n",
       "      <td>Dry</td>\n",
       "      <td>No Special Conditions or Not Specified</td>\n",
       "      <td>No Carriageway Hazards or Not Specified</td>\n",
       "      <td>1</td>\n",
       "      <td>2010</td>\n",
       "    </tr>\n",
       "    <tr>\n",
       "      <th>974215</th>\n",
       "      <td>974585</td>\n",
       "      <td>2.01135E+12</td>\n",
       "      <td>530280.0</td>\n",
       "      <td>269020.0</td>\n",
       "      <td>-0.090673</td>\n",
       "      <td>52.303816</td>\n",
       "      <td>35</td>\n",
       "      <td>3</td>\n",
       "      <td>2</td>\n",
       "      <td>1</td>\n",
       "      <td>...</td>\n",
       "      <td>1096</td>\n",
       "      <td>None within 50 metres</td>\n",
       "      <td>No physical crossing within 50 meters</td>\n",
       "      <td>Daylight: Street light present</td>\n",
       "      <td>Fine without high winds</td>\n",
       "      <td>Dry</td>\n",
       "      <td>No Special Conditions or Not Specified</td>\n",
       "      <td>No Carriageway Hazards or Not Specified</td>\n",
       "      <td>2</td>\n",
       "      <td>2011</td>\n",
       "    </tr>\n",
       "    <tr>\n",
       "      <th>1439364</th>\n",
       "      <td>1473905</td>\n",
       "      <td>2.01E+12</td>\n",
       "      <td>533879.0</td>\n",
       "      <td>105654.0</td>\n",
       "      <td>-0.100141</td>\n",
       "      <td>50.834874</td>\n",
       "      <td>47</td>\n",
       "      <td>3</td>\n",
       "      <td>1</td>\n",
       "      <td>1</td>\n",
       "      <td>...</td>\n",
       "      <td>0</td>\n",
       "      <td>None within 50 metres</td>\n",
       "      <td>Pedestrian phase at traffic signal junction</td>\n",
       "      <td>Darkness: Street lights present and lit</td>\n",
       "      <td>Raining with high winds</td>\n",
       "      <td>Wet/Damp</td>\n",
       "      <td>No Special Conditions or Not Specified</td>\n",
       "      <td>No Carriageway Hazards or Not Specified</td>\n",
       "      <td>2</td>\n",
       "      <td>2014</td>\n",
       "    </tr>\n",
       "    <tr>\n",
       "      <th>93225</th>\n",
       "      <td>93282</td>\n",
       "      <td>200522GA37851</td>\n",
       "      <td>368060.0</td>\n",
       "      <td>305270.0</td>\n",
       "      <td>-2.473503</td>\n",
       "      <td>52.644196</td>\n",
       "      <td>22</td>\n",
       "      <td>3</td>\n",
       "      <td>2</td>\n",
       "      <td>1</td>\n",
       "      <td>...</td>\n",
       "      <td>0</td>\n",
       "      <td>None within 50 metres</td>\n",
       "      <td>No physical crossing within 50 meters</td>\n",
       "      <td>Darkness: Street lights present and lit</td>\n",
       "      <td>Fine without high winds</td>\n",
       "      <td>Wet/Damp</td>\n",
       "      <td>No Special Conditions or Not Specified</td>\n",
       "      <td>No Carriageway Hazards or Not Specified</td>\n",
       "      <td>2</td>\n",
       "      <td>2005</td>\n",
       "    </tr>\n",
       "    <tr>\n",
       "      <th>167379</th>\n",
       "      <td>167459</td>\n",
       "      <td>2.01E+12</td>\n",
       "      <td>372850.0</td>\n",
       "      <td>162870.0</td>\n",
       "      <td>-2.391382</td>\n",
       "      <td>51.364188</td>\n",
       "      <td>52</td>\n",
       "      <td>2</td>\n",
       "      <td>1</td>\n",
       "      <td>1</td>\n",
       "      <td>...</td>\n",
       "      <td>0</td>\n",
       "      <td>None within 50 metres</td>\n",
       "      <td>No physical crossing within 50 meters</td>\n",
       "      <td>Darkness: Street lights present and lit</td>\n",
       "      <td>Fine without high winds</td>\n",
       "      <td>Dry</td>\n",
       "      <td>No Special Conditions or Not Specified</td>\n",
       "      <td>No Carriageway Hazards or Not Specified</td>\n",
       "      <td>1</td>\n",
       "      <td>2005</td>\n",
       "    </tr>\n",
       "  </tbody>\n",
       "</table>\n",
       "<p>5 rows × 31 columns</p>\n",
       "</div>"
      ],
      "text/plain": [
       "         Unnamed: 0 Accident_Index  Location_Easting_OSGR  \\\n",
       "772439       772741    2.01007E+12               353000.0   \n",
       "974215       974585    2.01135E+12               530280.0   \n",
       "1439364     1473905       2.01E+12               533879.0   \n",
       "93225         93282  200522GA37851               368060.0   \n",
       "167379       167459       2.01E+12               372850.0   \n",
       "\n",
       "         Location_Northing_OSGR  Longitude   Latitude  Police_Force  \\\n",
       "772439                 381540.0  -2.707176  53.328666             7   \n",
       "974215                 269020.0  -0.090673  52.303816            35   \n",
       "1439364                105654.0  -0.100141  50.834874            47   \n",
       "93225                  305270.0  -2.473503  52.644196            22   \n",
       "167379                 162870.0  -2.391382  51.364188            52   \n",
       "\n",
       "         Accident_Severity  Number_of_Vehicles  Number_of_Casualties  ...  \\\n",
       "772439                   3                   1                     1  ...   \n",
       "974215                   3                   2                     1  ...   \n",
       "1439364                  3                   1                     1  ...   \n",
       "93225                    3                   2                     1  ...   \n",
       "167379                   2                   1                     1  ...   \n",
       "\n",
       "        2nd_Road_Number  Pedestrian_Crossing-Human_Control  \\\n",
       "772439                0              None within 50 metres   \n",
       "974215             1096              None within 50 metres   \n",
       "1439364               0              None within 50 metres   \n",
       "93225                 0              None within 50 metres   \n",
       "167379                0              None within 50 metres   \n",
       "\n",
       "             Pedestrian_Crossing-Physical_Facilities  \\\n",
       "772439         No physical crossing within 50 meters   \n",
       "974215         No physical crossing within 50 meters   \n",
       "1439364  Pedestrian phase at traffic signal junction   \n",
       "93225          No physical crossing within 50 meters   \n",
       "167379         No physical crossing within 50 meters   \n",
       "\n",
       "                                Light_Conditions       Weather_Conditions  \\\n",
       "772439            Daylight: Street light present  Fine without high winds   \n",
       "974215            Daylight: Street light present  Fine without high winds   \n",
       "1439364  Darkness: Street lights present and lit  Raining with high winds   \n",
       "93225    Darkness: Street lights present and lit  Fine without high winds   \n",
       "167379   Darkness: Street lights present and lit  Fine without high winds   \n",
       "\n",
       "         Road_Surface_Conditions              Special_Conditions_at_Site  \\\n",
       "772439                       Dry  No Special Conditions or Not Specified   \n",
       "974215                       Dry  No Special Conditions or Not Specified   \n",
       "1439364                 Wet/Damp  No Special Conditions or Not Specified   \n",
       "93225                   Wet/Damp  No Special Conditions or Not Specified   \n",
       "167379                       Dry  No Special Conditions or Not Specified   \n",
       "\n",
       "                             Carriageway_Hazards  Urban_or_Rural_Area  Year  \n",
       "772439   No Carriageway Hazards or Not Specified                    1  2010  \n",
       "974215   No Carriageway Hazards or Not Specified                    2  2011  \n",
       "1439364  No Carriageway Hazards or Not Specified                    2  2014  \n",
       "93225    No Carriageway Hazards or Not Specified                    2  2005  \n",
       "167379   No Carriageway Hazards or Not Specified                    1  2005  \n",
       "\n",
       "[5 rows x 31 columns]"
      ]
     },
     "execution_count": 3,
     "metadata": {},
     "output_type": "execute_result"
    }
   ],
   "source": [
    "data.sample(5)"
   ]
  },
  {
   "cell_type": "markdown",
   "metadata": {},
   "source": [
    "### Okunan veri setinden gerekli olan sütunların filtrelenmesi"
   ]
  },
  {
   "cell_type": "code",
   "execution_count": 4,
   "metadata": {},
   "outputs": [],
   "source": [
    "data_filter = data[[\"Local_Authority_(Highway)\", \"Latitude\", \"Longitude\", \"Year\"]]"
   ]
  },
  {
   "cell_type": "code",
   "execution_count": 5,
   "metadata": {},
   "outputs": [
    {
     "data": {
      "text/plain": [
       "207"
      ]
     },
     "execution_count": 5,
     "metadata": {},
     "output_type": "execute_result"
    }
   ],
   "source": [
    "len(data_filter[\"Local_Authority_(Highway)\"].unique())"
   ]
  },
  {
   "cell_type": "code",
   "execution_count": 6,
   "metadata": {},
   "outputs": [
    {
     "data": {
      "text/plain": [
       "array([2005, 2006, 2007, 2009, 2010, 2011, 2012, 2013, 2014], dtype=int64)"
      ]
     },
     "execution_count": 6,
     "metadata": {},
     "output_type": "execute_result"
    }
   ],
   "source": [
    "data_filter[\"Year\"].unique()"
   ]
  },
  {
   "cell_type": "code",
   "execution_count": 7,
   "metadata": {},
   "outputs": [],
   "source": [
    "data_filter.to_csv(\"data_filter.csv\")"
   ]
  },
  {
   "cell_type": "markdown",
   "metadata": {},
   "source": [
    "### Filtrelenen verinin yıllara göre ayrılması"
   ]
  },
  {
   "cell_type": "code",
   "execution_count": 8,
   "metadata": {},
   "outputs": [],
   "source": [
    "data_2005 = data_filter[data_filter[\"Year\"] == 2005]\n",
    "data_2006 = data_filter[data_filter[\"Year\"] == 2006]\n",
    "data_2007 = data_filter[data_filter[\"Year\"] == 2007]\n",
    "data_2009 = data_filter[data_filter[\"Year\"] == 2009]\n",
    "data_2010 = data_filter[data_filter[\"Year\"] == 2010]\n",
    "data_2011 = data_filter[data_filter[\"Year\"] == 2011]\n",
    "data_2012 = data_filter[data_filter[\"Year\"] == 2012]\n",
    "data_2013 = data_filter[data_filter[\"Year\"] == 2013]\n",
    "data_2014 = data_filter[data_filter[\"Year\"] == 2014]"
   ]
  },
  {
   "cell_type": "code",
   "execution_count": 9,
   "metadata": {},
   "outputs": [],
   "source": [
    "data_2005.to_csv(\"data_2005.csv\")\n",
    "data_2006.to_csv(\"data_2006.csv\")\n",
    "data_2007.to_csv(\"data_2007.csv\")\n",
    "data_2009.to_csv(\"data_2009.csv\")\n",
    "data_2010.to_csv(\"data_2010.csv\")\n",
    "data_2011.to_csv(\"data_2011.csv\")\n",
    "data_2012.to_csv(\"data_2012.csv\")\n",
    "data_2013.to_csv(\"data_2013.csv\")\n",
    "data_2014.to_csv(\"data_2014.csv\")"
   ]
  },
  {
   "cell_type": "markdown",
   "metadata": {},
   "source": [
    "### TABLEAU LINK"
   ]
  },
  {
   "cell_type": "markdown",
   "metadata": {},
   "source": [
    "https://public.tableau.com/shared/Y2X6DY3KJ?:display_count=n&:origin=viz_share_link"
   ]
  }
 ],
 "metadata": {
  "kernelspec": {
   "display_name": "Python 3",
   "language": "python",
   "name": "python3"
  },
  "language_info": {
   "codemirror_mode": {
    "name": "ipython",
    "version": 3
   },
   "file_extension": ".py",
   "mimetype": "text/x-python",
   "name": "python",
   "nbconvert_exporter": "python",
   "pygments_lexer": "ipython3",
   "version": "3.11.5"
  }
 },
 "nbformat": 4,
 "nbformat_minor": 2
}
