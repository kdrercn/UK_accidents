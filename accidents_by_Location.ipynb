{
 "cells": [
  {
   "cell_type": "markdown",
   "metadata": {},
   "source": [
    "### Kütüphanelerin Yüklenmesi"
   ]
  },
  {
   "cell_type": "code",
   "execution_count": 1,
   "metadata": {},
   "outputs": [],
   "source": [
    "import pandas as pd"
   ]
  },
  {
   "cell_type": "markdown",
   "metadata": {},
   "source": [
    "### Veri Yüklenmesi"
   ]
  },
  {
   "cell_type": "code",
   "execution_count": 2,
   "metadata": {},
   "outputs": [],
   "source": [
    "data = pd.read_csv(\"data/clean_data.csv\")"
   ]
  },
  {
   "cell_type": "code",
   "execution_count": 3,
   "metadata": {},
   "outputs": [
    {
     "data": {
      "text/html": [
       "<div>\n",
       "<style scoped>\n",
       "    .dataframe tbody tr th:only-of-type {\n",
       "        vertical-align: middle;\n",
       "    }\n",
       "\n",
       "    .dataframe tbody tr th {\n",
       "        vertical-align: top;\n",
       "    }\n",
       "\n",
       "    .dataframe thead th {\n",
       "        text-align: right;\n",
       "    }\n",
       "</style>\n",
       "<table border=\"1\" class=\"dataframe\">\n",
       "  <thead>\n",
       "    <tr style=\"text-align: right;\">\n",
       "      <th></th>\n",
       "      <th>Unnamed: 0</th>\n",
       "      <th>Accident_Index</th>\n",
       "      <th>Location_Easting_OSGR</th>\n",
       "      <th>Location_Northing_OSGR</th>\n",
       "      <th>Longitude</th>\n",
       "      <th>Latitude</th>\n",
       "      <th>Police_Force</th>\n",
       "      <th>Accident_Severity</th>\n",
       "      <th>Number_of_Vehicles</th>\n",
       "      <th>Number_of_Casualties</th>\n",
       "      <th>...</th>\n",
       "      <th>2nd_Road_Number</th>\n",
       "      <th>Pedestrian_Crossing-Human_Control</th>\n",
       "      <th>Pedestrian_Crossing-Physical_Facilities</th>\n",
       "      <th>Light_Conditions</th>\n",
       "      <th>Weather_Conditions</th>\n",
       "      <th>Road_Surface_Conditions</th>\n",
       "      <th>Special_Conditions_at_Site</th>\n",
       "      <th>Carriageway_Hazards</th>\n",
       "      <th>Urban_or_Rural_Area</th>\n",
       "      <th>Year</th>\n",
       "    </tr>\n",
       "  </thead>\n",
       "  <tbody>\n",
       "    <tr>\n",
       "      <th>354530</th>\n",
       "      <td>354681</td>\n",
       "      <td>200650F42B858</td>\n",
       "      <td>293750.0</td>\n",
       "      <td>73140.0</td>\n",
       "      <td>-3.501074</td>\n",
       "      <td>50.548271</td>\n",
       "      <td>50</td>\n",
       "      <td>3</td>\n",
       "      <td>1</td>\n",
       "      <td>1</td>\n",
       "      <td>...</td>\n",
       "      <td>0</td>\n",
       "      <td>None within 50 metres</td>\n",
       "      <td>No physical crossing within 50 meters</td>\n",
       "      <td>Darkness: Street lights present and lit</td>\n",
       "      <td>Raining without high winds</td>\n",
       "      <td>Wet/Damp</td>\n",
       "      <td>No Special Conditions or Not Specified</td>\n",
       "      <td>No Carriageway Hazards or Not Specified</td>\n",
       "      <td>1</td>\n",
       "      <td>2006</td>\n",
       "    </tr>\n",
       "    <tr>\n",
       "      <th>212077</th>\n",
       "      <td>212207</td>\n",
       "      <td>200601QK50088</td>\n",
       "      <td>521160.0</td>\n",
       "      <td>185860.0</td>\n",
       "      <td>-0.253622</td>\n",
       "      <td>51.558566</td>\n",
       "      <td>1</td>\n",
       "      <td>3</td>\n",
       "      <td>2</td>\n",
       "      <td>1</td>\n",
       "      <td>...</td>\n",
       "      <td>406</td>\n",
       "      <td>None within 50 metres</td>\n",
       "      <td>No physical crossing within 50 meters</td>\n",
       "      <td>Daylight: Street light present</td>\n",
       "      <td>Fine without high winds</td>\n",
       "      <td>Dry</td>\n",
       "      <td>No Special Conditions or Not Specified</td>\n",
       "      <td>No Carriageway Hazards or Not Specified</td>\n",
       "      <td>1</td>\n",
       "      <td>2006</td>\n",
       "    </tr>\n",
       "    <tr>\n",
       "      <th>149100</th>\n",
       "      <td>149176</td>\n",
       "      <td>2.01E+12</td>\n",
       "      <td>619480.0</td>\n",
       "      <td>136560.0</td>\n",
       "      <td>1.132570</td>\n",
       "      <td>51.086281</td>\n",
       "      <td>46</td>\n",
       "      <td>3</td>\n",
       "      <td>1</td>\n",
       "      <td>1</td>\n",
       "      <td>...</td>\n",
       "      <td>0</td>\n",
       "      <td>None within 50 metres</td>\n",
       "      <td>No physical crossing within 50 meters</td>\n",
       "      <td>Daylight: Street light present</td>\n",
       "      <td>Fine without high winds</td>\n",
       "      <td>Wet/Damp</td>\n",
       "      <td>No Special Conditions or Not Specified</td>\n",
       "      <td>No Carriageway Hazards or Not Specified</td>\n",
       "      <td>1</td>\n",
       "      <td>2005</td>\n",
       "    </tr>\n",
       "    <tr>\n",
       "      <th>247135</th>\n",
       "      <td>247278</td>\n",
       "      <td>2.01E+12</td>\n",
       "      <td>424190.0</td>\n",
       "      <td>560690.0</td>\n",
       "      <td>-1.623934</td>\n",
       "      <td>54.940314</td>\n",
       "      <td>10</td>\n",
       "      <td>3</td>\n",
       "      <td>2</td>\n",
       "      <td>1</td>\n",
       "      <td>...</td>\n",
       "      <td>326</td>\n",
       "      <td>None within 50 metres</td>\n",
       "      <td>No physical crossing within 50 meters</td>\n",
       "      <td>Darkness: Street lights present and lit</td>\n",
       "      <td>Fine without high winds</td>\n",
       "      <td>Wet/Damp</td>\n",
       "      <td>No Special Conditions or Not Specified</td>\n",
       "      <td>No Carriageway Hazards or Not Specified</td>\n",
       "      <td>1</td>\n",
       "      <td>2006</td>\n",
       "    </tr>\n",
       "    <tr>\n",
       "      <th>174282</th>\n",
       "      <td>174362</td>\n",
       "      <td>2005555B03362</td>\n",
       "      <td>407960.0</td>\n",
       "      <td>93530.0</td>\n",
       "      <td>-1.888573</td>\n",
       "      <td>50.741260</td>\n",
       "      <td>55</td>\n",
       "      <td>3</td>\n",
       "      <td>2</td>\n",
       "      <td>1</td>\n",
       "      <td>...</td>\n",
       "      <td>0</td>\n",
       "      <td>None within 50 metres</td>\n",
       "      <td>No physical crossing within 50 meters</td>\n",
       "      <td>Daylight: Street light present</td>\n",
       "      <td>Fine without high winds</td>\n",
       "      <td>Dry</td>\n",
       "      <td>No Special Conditions or Not Specified</td>\n",
       "      <td>No Carriageway Hazards or Not Specified</td>\n",
       "      <td>1</td>\n",
       "      <td>2005</td>\n",
       "    </tr>\n",
       "  </tbody>\n",
       "</table>\n",
       "<p>5 rows × 31 columns</p>\n",
       "</div>"
      ],
      "text/plain": [
       "        Unnamed: 0 Accident_Index  Location_Easting_OSGR  \\\n",
       "354530      354681  200650F42B858               293750.0   \n",
       "212077      212207  200601QK50088               521160.0   \n",
       "149100      149176       2.01E+12               619480.0   \n",
       "247135      247278       2.01E+12               424190.0   \n",
       "174282      174362  2005555B03362               407960.0   \n",
       "\n",
       "        Location_Northing_OSGR  Longitude   Latitude  Police_Force  \\\n",
       "354530                 73140.0  -3.501074  50.548271            50   \n",
       "212077                185860.0  -0.253622  51.558566             1   \n",
       "149100                136560.0   1.132570  51.086281            46   \n",
       "247135                560690.0  -1.623934  54.940314            10   \n",
       "174282                 93530.0  -1.888573  50.741260            55   \n",
       "\n",
       "        Accident_Severity  Number_of_Vehicles  Number_of_Casualties  ...  \\\n",
       "354530                  3                   1                     1  ...   \n",
       "212077                  3                   2                     1  ...   \n",
       "149100                  3                   1                     1  ...   \n",
       "247135                  3                   2                     1  ...   \n",
       "174282                  3                   2                     1  ...   \n",
       "\n",
       "       2nd_Road_Number  Pedestrian_Crossing-Human_Control  \\\n",
       "354530               0              None within 50 metres   \n",
       "212077             406              None within 50 metres   \n",
       "149100               0              None within 50 metres   \n",
       "247135             326              None within 50 metres   \n",
       "174282               0              None within 50 metres   \n",
       "\n",
       "       Pedestrian_Crossing-Physical_Facilities  \\\n",
       "354530   No physical crossing within 50 meters   \n",
       "212077   No physical crossing within 50 meters   \n",
       "149100   No physical crossing within 50 meters   \n",
       "247135   No physical crossing within 50 meters   \n",
       "174282   No physical crossing within 50 meters   \n",
       "\n",
       "                               Light_Conditions          Weather_Conditions  \\\n",
       "354530  Darkness: Street lights present and lit  Raining without high winds   \n",
       "212077           Daylight: Street light present     Fine without high winds   \n",
       "149100           Daylight: Street light present     Fine without high winds   \n",
       "247135  Darkness: Street lights present and lit     Fine without high winds   \n",
       "174282           Daylight: Street light present     Fine without high winds   \n",
       "\n",
       "        Road_Surface_Conditions              Special_Conditions_at_Site  \\\n",
       "354530                 Wet/Damp  No Special Conditions or Not Specified   \n",
       "212077                      Dry  No Special Conditions or Not Specified   \n",
       "149100                 Wet/Damp  No Special Conditions or Not Specified   \n",
       "247135                 Wet/Damp  No Special Conditions or Not Specified   \n",
       "174282                      Dry  No Special Conditions or Not Specified   \n",
       "\n",
       "                            Carriageway_Hazards  Urban_or_Rural_Area  Year  \n",
       "354530  No Carriageway Hazards or Not Specified                    1  2006  \n",
       "212077  No Carriageway Hazards or Not Specified                    1  2006  \n",
       "149100  No Carriageway Hazards or Not Specified                    1  2005  \n",
       "247135  No Carriageway Hazards or Not Specified                    1  2006  \n",
       "174282  No Carriageway Hazards or Not Specified                    1  2005  \n",
       "\n",
       "[5 rows x 31 columns]"
      ]
     },
     "execution_count": 3,
     "metadata": {},
     "output_type": "execute_result"
    }
   ],
   "source": [
    "data.sample(5)"
   ]
  },
  {
   "cell_type": "markdown",
   "metadata": {},
   "source": [
    "### Okunan veri setinden gerekli olan sütunların filtrelenmesi"
   ]
  },
  {
   "cell_type": "code",
   "execution_count": 4,
   "metadata": {},
   "outputs": [],
   "source": [
    "data_filter = data[[\"Local_Authority_(Highway)\", \"Latitude\", \"Longitude\", \"Year\"]]"
   ]
  },
  {
   "cell_type": "code",
   "execution_count": 15,
   "metadata": {},
   "outputs": [
    {
     "data": {
      "text/plain": [
       "207"
      ]
     },
     "execution_count": 15,
     "metadata": {},
     "output_type": "execute_result"
    }
   ],
   "source": [
    "len(data_filter[\"Local_Authority_(Highway)\"].unique())"
   ]
  },
  {
   "cell_type": "code",
   "execution_count": 6,
   "metadata": {},
   "outputs": [
    {
     "data": {
      "text/plain": [
       "array([2005, 2006, 2007, 2009, 2010, 2011, 2012, 2013, 2014], dtype=int64)"
      ]
     },
     "execution_count": 6,
     "metadata": {},
     "output_type": "execute_result"
    }
   ],
   "source": [
    "data_filter[\"Year\"].unique()"
   ]
  },
  {
   "cell_type": "code",
   "execution_count": 7,
   "metadata": {},
   "outputs": [],
   "source": [
    "data_filter.to_csv(\"data_filter.csv\")"
   ]
  },
  {
   "cell_type": "markdown",
   "metadata": {},
   "source": [
    "### Filtrelenen verinin yıllara göre ayrılması"
   ]
  },
  {
   "cell_type": "code",
   "execution_count": 8,
   "metadata": {},
   "outputs": [],
   "source": [
    "data_2005 = data_filter[data_filter[\"Year\"] == 2005]\n",
    "data_2006 = data_filter[data_filter[\"Year\"] == 2006]\n",
    "data_2007 = data_filter[data_filter[\"Year\"] == 2007]\n",
    "data_2009 = data_filter[data_filter[\"Year\"] == 2009]\n",
    "data_2010 = data_filter[data_filter[\"Year\"] == 2010]\n",
    "data_2011 = data_filter[data_filter[\"Year\"] == 2011]\n",
    "data_2012 = data_filter[data_filter[\"Year\"] == 2012]\n",
    "data_2013 = data_filter[data_filter[\"Year\"] == 2013]\n",
    "data_2014 = data_filter[data_filter[\"Year\"] == 2014]"
   ]
  },
  {
   "cell_type": "code",
   "execution_count": 9,
   "metadata": {},
   "outputs": [],
   "source": [
    "data_2005.to_csv(\"data_2005.csv\")\n",
    "data_2006.to_csv(\"data_2006.csv\")\n",
    "data_2007.to_csv(\"data_2007.csv\")\n",
    "data_2009.to_csv(\"data_2009.csv\")\n",
    "data_2010.to_csv(\"data_2010.csv\")\n",
    "data_2011.to_csv(\"data_2011.csv\")\n",
    "data_2012.to_csv(\"data_2012.csv\")\n",
    "data_2013.to_csv(\"data_2013.csv\")\n",
    "data_2014.to_csv(\"data_2014.csv\")"
   ]
  },
  {
   "cell_type": "markdown",
   "metadata": {},
   "source": [
    "### TABLEAU LINK"
   ]
  },
  {
   "cell_type": "markdown",
   "metadata": {},
   "source": [
    "https://public.tableau.com/shared/Y2X6DY3KJ?:display_count=n&:origin=viz_share_link"
   ]
  }
 ],
 "metadata": {
  "kernelspec": {
   "display_name": "Python 3",
   "language": "python",
   "name": "python3"
  },
  "language_info": {
   "codemirror_mode": {
    "name": "ipython",
    "version": 3
   },
   "file_extension": ".py",
   "mimetype": "text/x-python",
   "name": "python",
   "nbconvert_exporter": "python",
   "pygments_lexer": "ipython3",
   "version": "3.11.5"
  }
 },
 "nbformat": 4,
 "nbformat_minor": 2
}
