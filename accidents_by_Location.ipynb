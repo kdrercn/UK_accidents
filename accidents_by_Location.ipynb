{
 "cells": [
  {
   "cell_type": "markdown",
   "metadata": {},
   "source": [
    "### Kütüphanelerin Yüklenmesi"
   ]
  },
  {
   "cell_type": "code",
   "execution_count": 1,
   "metadata": {},
   "outputs": [],
   "source": [
    "import pandas as pd"
   ]
  },
  {
   "cell_type": "markdown",
   "metadata": {},
   "source": [
    "### Veri Yüklenmesi"
   ]
  },
  {
   "cell_type": "code",
   "execution_count": 2,
   "metadata": {},
   "outputs": [],
   "source": [
    "data = pd.read_csv(\"data/clean_data.csv\")"
   ]
  },
  {
   "cell_type": "code",
   "execution_count": 3,
   "metadata": {},
   "outputs": [
    {
     "data": {
      "text/html": [
       "<div>\n",
       "<style scoped>\n",
       "    .dataframe tbody tr th:only-of-type {\n",
       "        vertical-align: middle;\n",
       "    }\n",
       "\n",
       "    .dataframe tbody tr th {\n",
       "        vertical-align: top;\n",
       "    }\n",
       "\n",
       "    .dataframe thead th {\n",
       "        text-align: right;\n",
       "    }\n",
       "</style>\n",
       "<table border=\"1\" class=\"dataframe\">\n",
       "  <thead>\n",
       "    <tr style=\"text-align: right;\">\n",
       "      <th></th>\n",
       "      <th>Unnamed: 0</th>\n",
       "      <th>Accident_Index</th>\n",
       "      <th>Location_Easting_OSGR</th>\n",
       "      <th>Location_Northing_OSGR</th>\n",
       "      <th>Longitude</th>\n",
       "      <th>Latitude</th>\n",
       "      <th>Police_Force</th>\n",
       "      <th>Accident_Severity</th>\n",
       "      <th>Number_of_Vehicles</th>\n",
       "      <th>Number_of_Casualties</th>\n",
       "      <th>...</th>\n",
       "      <th>2nd_Road_Number</th>\n",
       "      <th>Pedestrian_Crossing-Human_Control</th>\n",
       "      <th>Pedestrian_Crossing-Physical_Facilities</th>\n",
       "      <th>Light_Conditions</th>\n",
       "      <th>Weather_Conditions</th>\n",
       "      <th>Road_Surface_Conditions</th>\n",
       "      <th>Special_Conditions_at_Site</th>\n",
       "      <th>Carriageway_Hazards</th>\n",
       "      <th>Urban_or_Rural_Area</th>\n",
       "      <th>Year</th>\n",
       "    </tr>\n",
       "  </thead>\n",
       "  <tbody>\n",
       "    <tr>\n",
       "      <th>1432744</th>\n",
       "      <td>1467285</td>\n",
       "      <td>2.01E+12</td>\n",
       "      <td>498875.0</td>\n",
       "      <td>162100.0</td>\n",
       "      <td>-0.581611</td>\n",
       "      <td>51.349332</td>\n",
       "      <td>45</td>\n",
       "      <td>3</td>\n",
       "      <td>2</td>\n",
       "      <td>1</td>\n",
       "      <td>...</td>\n",
       "      <td>0</td>\n",
       "      <td>None within 50 metres</td>\n",
       "      <td>No physical crossing within 50 meters</td>\n",
       "      <td>Daylight: Street light present</td>\n",
       "      <td>Fine without high winds</td>\n",
       "      <td>Dry</td>\n",
       "      <td>No Special Conditions or Not Specified</td>\n",
       "      <td>No Carriageway Hazards or Not Specified</td>\n",
       "      <td>2</td>\n",
       "      <td>2014</td>\n",
       "    </tr>\n",
       "    <tr>\n",
       "      <th>829243</th>\n",
       "      <td>829549</td>\n",
       "      <td>20104100D0210</td>\n",
       "      <td>506490.0</td>\n",
       "      <td>205750.0</td>\n",
       "      <td>-0.459106</td>\n",
       "      <td>51.740298</td>\n",
       "      <td>41</td>\n",
       "      <td>1</td>\n",
       "      <td>2</td>\n",
       "      <td>2</td>\n",
       "      <td>...</td>\n",
       "      <td>949</td>\n",
       "      <td>None within 50 metres</td>\n",
       "      <td>No physical crossing within 50 meters</td>\n",
       "      <td>Darkness: Street lights present and lit</td>\n",
       "      <td>Raining without high winds</td>\n",
       "      <td>Wet/Damp</td>\n",
       "      <td>No Special Conditions or Not Specified</td>\n",
       "      <td>No Carriageway Hazards or Not Specified</td>\n",
       "      <td>1</td>\n",
       "      <td>2010</td>\n",
       "    </tr>\n",
       "    <tr>\n",
       "      <th>149560</th>\n",
       "      <td>149636</td>\n",
       "      <td>2.01E+12</td>\n",
       "      <td>601090.0</td>\n",
       "      <td>142370.0</td>\n",
       "      <td>0.873585</td>\n",
       "      <td>51.145198</td>\n",
       "      <td>46</td>\n",
       "      <td>3</td>\n",
       "      <td>3</td>\n",
       "      <td>1</td>\n",
       "      <td>...</td>\n",
       "      <td>292</td>\n",
       "      <td>None within 50 metres</td>\n",
       "      <td>non-junction pedestrian crossing</td>\n",
       "      <td>Darkness: Street lights present and lit</td>\n",
       "      <td>Fine without high winds</td>\n",
       "      <td>Dry</td>\n",
       "      <td>No Special Conditions or Not Specified</td>\n",
       "      <td>No Carriageway Hazards or Not Specified</td>\n",
       "      <td>1</td>\n",
       "      <td>2005</td>\n",
       "    </tr>\n",
       "    <tr>\n",
       "      <th>399800</th>\n",
       "      <td>399977</td>\n",
       "      <td>200701PY20422</td>\n",
       "      <td>536970.0</td>\n",
       "      <td>169410.0</td>\n",
       "      <td>-0.032068</td>\n",
       "      <td>51.407126</td>\n",
       "      <td>1</td>\n",
       "      <td>3</td>\n",
       "      <td>1</td>\n",
       "      <td>1</td>\n",
       "      <td>...</td>\n",
       "      <td>2015</td>\n",
       "      <td>None within 50 metres</td>\n",
       "      <td>No physical crossing within 50 meters</td>\n",
       "      <td>Darkness: Street lights present and lit</td>\n",
       "      <td>Fine without high winds</td>\n",
       "      <td>Dry</td>\n",
       "      <td>No Special Conditions or Not Specified</td>\n",
       "      <td>No Carriageway Hazards or Not Specified</td>\n",
       "      <td>1</td>\n",
       "      <td>2007</td>\n",
       "    </tr>\n",
       "    <tr>\n",
       "      <th>635197</th>\n",
       "      <td>635438</td>\n",
       "      <td>200920E030101</td>\n",
       "      <td>405170.0</td>\n",
       "      <td>284510.0</td>\n",
       "      <td>-1.925351</td>\n",
       "      <td>52.458485</td>\n",
       "      <td>20</td>\n",
       "      <td>3</td>\n",
       "      <td>1</td>\n",
       "      <td>2</td>\n",
       "      <td>...</td>\n",
       "      <td>0</td>\n",
       "      <td>None within 50 metres</td>\n",
       "      <td>non-junction pedestrian crossing</td>\n",
       "      <td>Darkness: Street lights present and lit</td>\n",
       "      <td>Fine without high winds</td>\n",
       "      <td>Dry</td>\n",
       "      <td>No Special Conditions or Not Specified</td>\n",
       "      <td>No Carriageway Hazards or Not Specified</td>\n",
       "      <td>1</td>\n",
       "      <td>2009</td>\n",
       "    </tr>\n",
       "  </tbody>\n",
       "</table>\n",
       "<p>5 rows × 31 columns</p>\n",
       "</div>"
      ],
      "text/plain": [
       "         Unnamed: 0 Accident_Index  Location_Easting_OSGR  \\\n",
       "1432744     1467285       2.01E+12               498875.0   \n",
       "829243       829549  20104100D0210               506490.0   \n",
       "149560       149636       2.01E+12               601090.0   \n",
       "399800       399977  200701PY20422               536970.0   \n",
       "635197       635438  200920E030101               405170.0   \n",
       "\n",
       "         Location_Northing_OSGR  Longitude   Latitude  Police_Force  \\\n",
       "1432744                162100.0  -0.581611  51.349332            45   \n",
       "829243                 205750.0  -0.459106  51.740298            41   \n",
       "149560                 142370.0   0.873585  51.145198            46   \n",
       "399800                 169410.0  -0.032068  51.407126             1   \n",
       "635197                 284510.0  -1.925351  52.458485            20   \n",
       "\n",
       "         Accident_Severity  Number_of_Vehicles  Number_of_Casualties  ...  \\\n",
       "1432744                  3                   2                     1  ...   \n",
       "829243                   1                   2                     2  ...   \n",
       "149560                   3                   3                     1  ...   \n",
       "399800                   3                   1                     1  ...   \n",
       "635197                   3                   1                     2  ...   \n",
       "\n",
       "        2nd_Road_Number  Pedestrian_Crossing-Human_Control  \\\n",
       "1432744               0              None within 50 metres   \n",
       "829243              949              None within 50 metres   \n",
       "149560              292              None within 50 metres   \n",
       "399800             2015              None within 50 metres   \n",
       "635197                0              None within 50 metres   \n",
       "\n",
       "        Pedestrian_Crossing-Physical_Facilities  \\\n",
       "1432744   No physical crossing within 50 meters   \n",
       "829243    No physical crossing within 50 meters   \n",
       "149560         non-junction pedestrian crossing   \n",
       "399800    No physical crossing within 50 meters   \n",
       "635197         non-junction pedestrian crossing   \n",
       "\n",
       "                                Light_Conditions          Weather_Conditions  \\\n",
       "1432744           Daylight: Street light present     Fine without high winds   \n",
       "829243   Darkness: Street lights present and lit  Raining without high winds   \n",
       "149560   Darkness: Street lights present and lit     Fine without high winds   \n",
       "399800   Darkness: Street lights present and lit     Fine without high winds   \n",
       "635197   Darkness: Street lights present and lit     Fine without high winds   \n",
       "\n",
       "         Road_Surface_Conditions              Special_Conditions_at_Site  \\\n",
       "1432744                      Dry  No Special Conditions or Not Specified   \n",
       "829243                  Wet/Damp  No Special Conditions or Not Specified   \n",
       "149560                       Dry  No Special Conditions or Not Specified   \n",
       "399800                       Dry  No Special Conditions or Not Specified   \n",
       "635197                       Dry  No Special Conditions or Not Specified   \n",
       "\n",
       "                             Carriageway_Hazards  Urban_or_Rural_Area  Year  \n",
       "1432744  No Carriageway Hazards or Not Specified                    2  2014  \n",
       "829243   No Carriageway Hazards or Not Specified                    1  2010  \n",
       "149560   No Carriageway Hazards or Not Specified                    1  2005  \n",
       "399800   No Carriageway Hazards or Not Specified                    1  2007  \n",
       "635197   No Carriageway Hazards or Not Specified                    1  2009  \n",
       "\n",
       "[5 rows x 31 columns]"
      ]
     },
     "execution_count": 3,
     "metadata": {},
     "output_type": "execute_result"
    }
   ],
   "source": [
    "data.sample(5)"
   ]
  },
  {
   "cell_type": "markdown",
   "metadata": {},
   "source": [
    "### Okunan veri setinden gerekli olan sütunların filtrelenmesi"
   ]
  },
  {
   "cell_type": "code",
   "execution_count": 4,
   "metadata": {},
   "outputs": [],
   "source": [
    "data_filter = data[[\"Local_Authority_(Highway)\", \"Latitude\", \"Longitude\", \"Year\"]]"
   ]
  },
  {
   "cell_type": "code",
   "execution_count": 5,
   "metadata": {},
   "outputs": [
    {
     "data": {
      "text/plain": [
       "207"
      ]
     },
     "execution_count": 5,
     "metadata": {},
     "output_type": "execute_result"
    }
   ],
   "source": [
    "len(data_filter[\"Local_Authority_(Highway)\"].unique())"
   ]
  },
  {
   "cell_type": "code",
   "execution_count": 6,
   "metadata": {},
   "outputs": [
    {
     "data": {
      "text/plain": [
       "array([2005, 2006, 2007, 2009, 2010, 2011, 2012, 2013, 2014], dtype=int64)"
      ]
     },
     "execution_count": 6,
     "metadata": {},
     "output_type": "execute_result"
    }
   ],
   "source": [
    "data_filter[\"Year\"].unique()"
   ]
  },
  {
   "cell_type": "markdown",
   "metadata": {},
   "source": [
    "### Filtrelenen verinin yıllara göre ayrılması"
   ]
  },
  {
   "cell_type": "code",
   "execution_count": 8,
   "metadata": {},
   "outputs": [],
   "source": [
    "data_2005 = data_filter[data_filter[\"Year\"] == 2005]\n",
    "data_2006 = data_filter[data_filter[\"Year\"] == 2006]\n",
    "data_2007 = data_filter[data_filter[\"Year\"] == 2007]\n",
    "data_2009 = data_filter[data_filter[\"Year\"] == 2009]\n",
    "data_2010 = data_filter[data_filter[\"Year\"] == 2010]\n",
    "data_2011 = data_filter[data_filter[\"Year\"] == 2011]\n",
    "data_2012 = data_filter[data_filter[\"Year\"] == 2012]\n",
    "data_2013 = data_filter[data_filter[\"Year\"] == 2013]\n",
    "data_2014 = data_filter[data_filter[\"Year\"] == 2014]"
   ]
  },
  {
   "cell_type": "code",
   "execution_count": 9,
   "metadata": {},
   "outputs": [],
   "source": [
    "data_2005.to_csv(\"data_2005.csv\")\n",
    "data_2006.to_csv(\"data_2006.csv\")\n",
    "data_2007.to_csv(\"data_2007.csv\")\n",
    "data_2009.to_csv(\"data_2009.csv\")\n",
    "data_2010.to_csv(\"data_2010.csv\")\n",
    "data_2011.to_csv(\"data_2011.csv\")\n",
    "data_2012.to_csv(\"data_2012.csv\")\n",
    "data_2013.to_csv(\"data_2013.csv\")\n",
    "data_2014.to_csv(\"data_2014.csv\")"
   ]
  },
  {
   "cell_type": "markdown",
   "metadata": {},
   "source": [
    "### Posta kodlarını District ismine çevirme"
   ]
  },
  {
   "cell_type": "markdown",
   "metadata": {},
   "source": [
    "#### Posta kodlarının yeni bir dataframe'e alınması"
   ]
  },
  {
   "cell_type": "code",
   "execution_count": 10,
   "metadata": {},
   "outputs": [],
   "source": [
    "local_auth = data_filter[\"Local_Authority_(Highway)\"]"
   ]
  },
  {
   "cell_type": "code",
   "execution_count": 11,
   "metadata": {},
   "outputs": [
    {
     "data": {
      "text/plain": [
       "639908    E08000029\n",
       "501437    E10000012\n",
       "7553      E09000026\n",
       "257523    E08000033\n",
       "754322    E09000017\n",
       "Name: Local_Authority_(Highway), dtype: object"
      ]
     },
     "execution_count": 11,
     "metadata": {},
     "output_type": "execute_result"
    }
   ],
   "source": [
    "local_auth.sample(5)"
   ]
  },
  {
   "cell_type": "markdown",
   "metadata": {},
   "source": [
    "#### * https://www.data.gov.uk/ üzerinden bulunan district ve posta kodu veri setinin okunması"
   ]
  },
  {
   "cell_type": "code",
   "execution_count": 12,
   "metadata": {},
   "outputs": [],
   "source": [
    "local_auth_uk = pd.read_csv(\"data/local_authority_traffic.csv\")"
   ]
  },
  {
   "cell_type": "code",
   "execution_count": 13,
   "metadata": {},
   "outputs": [],
   "source": [
    "local_auth_uk = local_auth_uk[[\"name\", \"ONS_code\"]]"
   ]
  },
  {
   "cell_type": "code",
   "execution_count": 14,
   "metadata": {},
   "outputs": [],
   "source": [
    "local_auth_uk_filter = local_auth_uk.drop_duplicates()"
   ]
  },
  {
   "cell_type": "markdown",
   "metadata": {},
   "source": [
    "#### LEFT JOIN yapabilmek için sütun isimlerine aynı değerlerin verilmesi"
   ]
  },
  {
   "cell_type": "code",
   "execution_count": 15,
   "metadata": {},
   "outputs": [],
   "source": [
    "local_auth_uk_filter = local_auth_uk_filter.rename(columns={\"ONS_code\": \"Local_Authority_(Highway)\"})"
   ]
  },
  {
   "cell_type": "markdown",
   "metadata": {},
   "source": [
    "#### Series olan verinin Dataframe'e çevrilmesi"
   ]
  },
  {
   "cell_type": "code",
   "execution_count": 16,
   "metadata": {},
   "outputs": [],
   "source": [
    "local_auth = local_auth.to_frame()"
   ]
  },
  {
   "cell_type": "markdown",
   "metadata": {},
   "source": [
    "#### LEFT JOIN ON posta kodu"
   ]
  },
  {
   "cell_type": "code",
   "execution_count": 17,
   "metadata": {},
   "outputs": [],
   "source": [
    "merged = local_auth.merge(local_auth_uk_filter, on=\"Local_Authority_(Highway)\", how=\"left\")"
   ]
  },
  {
   "cell_type": "markdown",
   "metadata": {},
   "source": [
    "#### * https://www.data.gov.uk/ 'dan alınan veri setinde olmayan bazı posta kodları bulunmakta"
   ]
  },
  {
   "cell_type": "markdown",
   "metadata": {},
   "source": [
    "##### Sebep: Veri seti 2014'e kadar olduğu için bazı değişiklikler olmuş olabilir."
   ]
  },
  {
   "cell_type": "code",
   "execution_count": 18,
   "metadata": {},
   "outputs": [
    {
     "data": {
      "text/plain": [
       "Local_Authority_(Highway)        0\n",
       "name                         53858\n",
       "dtype: int64"
      ]
     },
     "execution_count": 18,
     "metadata": {},
     "output_type": "execute_result"
    }
   ],
   "source": [
    "merged.isnull().sum()"
   ]
  },
  {
   "cell_type": "markdown",
   "metadata": {},
   "source": [
    "#### District ismi olmayan posta kodlarının tespiti"
   ]
  },
  {
   "cell_type": "code",
   "execution_count": 19,
   "metadata": {},
   "outputs": [],
   "source": [
    "merged_x = merged.loc[merged['name'].isna(), 'Local_Authority_(Highway)']"
   ]
  },
  {
   "cell_type": "code",
   "execution_count": 20,
   "metadata": {},
   "outputs": [
    {
     "data": {
      "text/plain": [
       "array(['EHEATHROW', 'E06000048', 'E08000020', 'E10000002', 'S12000024',\n",
       "       'S12000015', 'S12000043', 'S12000009', 'S12000044'], dtype=object)"
      ]
     },
     "execution_count": 20,
     "metadata": {},
     "output_type": "execute_result"
    }
   ],
   "source": [
    "merged_x.unique()"
   ]
  },
  {
   "cell_type": "markdown",
   "metadata": {},
   "source": [
    "#### * https://findthatpostcode.uk/ sayfasından bulunan district isimlerini veri setine ekleme"
   ]
  },
  {
   "cell_type": "code",
   "execution_count": 23,
   "metadata": {},
   "outputs": [
    {
     "name": "stdout",
     "output_type": "stream",
     "text": [
      "                  name Local_Authority_(Highway)\n",
      "0              Heatrow                 EHEATHROW\n",
      "1       Northumberland                 E06000048\n",
      "2            Gateshead                 E08000020\n",
      "3      Buckinghamshire                 E10000002\n",
      "4    Perth and Kinross                 S12000024\n",
      "5                 Fife                 S12000015\n",
      "6         Glasgow City                 S12000043\n",
      "7  East Dunbartonshire                 S12000009\n",
      "8    North Lanarkshire                 S12000044\n"
     ]
    }
   ],
   "source": [
    "import pandas as pd\n",
    "\n",
    "data = {\n",
    "    \n",
    "    'name': [\n",
    "        'Heatrow',\n",
    "        'Northumberland',\n",
    "        'Gateshead',\n",
    "        'Buckinghamshire',\n",
    "        'Perth and Kinross',\n",
    "        'Fife',\n",
    "        'Glasgow City',\n",
    "        'East Dunbartonshire',\n",
    "        'North Lanarkshire'\n",
    "    ],\n",
    "    'Local_Authority_(Highway)': [\n",
    "        'EHEATHROW',\n",
    "        'E06000048',\n",
    "        'E08000020',\n",
    "        'E10000002',\n",
    "        'S12000024',\n",
    "        'S12000015',\n",
    "        'S12000043',\n",
    "        'S12000009',\n",
    "        'S12000044'\n",
    "    ],\n",
    "}\n",
    "\n",
    "df = pd.DataFrame(data)\n",
    "print(df)\n"
   ]
  },
  {
   "cell_type": "code",
   "execution_count": 22,
   "metadata": {},
   "outputs": [
    {
     "data": {
      "text/html": [
       "<div>\n",
       "<style scoped>\n",
       "    .dataframe tbody tr th:only-of-type {\n",
       "        vertical-align: middle;\n",
       "    }\n",
       "\n",
       "    .dataframe tbody tr th {\n",
       "        vertical-align: top;\n",
       "    }\n",
       "\n",
       "    .dataframe thead th {\n",
       "        text-align: right;\n",
       "    }\n",
       "</style>\n",
       "<table border=\"1\" class=\"dataframe\">\n",
       "  <thead>\n",
       "    <tr style=\"text-align: right;\">\n",
       "      <th></th>\n",
       "      <th>name</th>\n",
       "      <th>Local_Authority_(Highway)</th>\n",
       "    </tr>\n",
       "  </thead>\n",
       "  <tbody>\n",
       "    <tr>\n",
       "      <th>60</th>\n",
       "      <td>Rotherham</td>\n",
       "      <td>E08000018</td>\n",
       "    </tr>\n",
       "    <tr>\n",
       "      <th>190</th>\n",
       "      <td>Bradford</td>\n",
       "      <td>E08000032</td>\n",
       "    </tr>\n",
       "    <tr>\n",
       "      <th>110</th>\n",
       "      <td>Wokingham</td>\n",
       "      <td>E06000041</td>\n",
       "    </tr>\n",
       "    <tr>\n",
       "      <th>178</th>\n",
       "      <td>Bournemouth</td>\n",
       "      <td>E06000028</td>\n",
       "    </tr>\n",
       "    <tr>\n",
       "      <th>78</th>\n",
       "      <td>West Sussex</td>\n",
       "      <td>E10000032</td>\n",
       "    </tr>\n",
       "  </tbody>\n",
       "</table>\n",
       "</div>"
      ],
      "text/plain": [
       "            name Local_Authority_(Highway)\n",
       "60     Rotherham                 E08000018\n",
       "190     Bradford                 E08000032\n",
       "110    Wokingham                 E06000041\n",
       "178  Bournemouth                 E06000028\n",
       "78   West Sussex                 E10000032"
      ]
     },
     "execution_count": 22,
     "metadata": {},
     "output_type": "execute_result"
    }
   ],
   "source": [
    "local_auth_uk_filter.sample(5)"
   ]
  },
  {
   "cell_type": "code",
   "execution_count": 24,
   "metadata": {},
   "outputs": [],
   "source": [
    "local_auth_uk_filter_new = pd.concat([local_auth_uk_filter, df])"
   ]
  },
  {
   "cell_type": "code",
   "execution_count": 25,
   "metadata": {},
   "outputs": [
    {
     "data": {
      "text/html": [
       "<div>\n",
       "<style scoped>\n",
       "    .dataframe tbody tr th:only-of-type {\n",
       "        vertical-align: middle;\n",
       "    }\n",
       "\n",
       "    .dataframe tbody tr th {\n",
       "        vertical-align: top;\n",
       "    }\n",
       "\n",
       "    .dataframe thead th {\n",
       "        text-align: right;\n",
       "    }\n",
       "</style>\n",
       "<table border=\"1\" class=\"dataframe\">\n",
       "  <thead>\n",
       "    <tr style=\"text-align: right;\">\n",
       "      <th></th>\n",
       "      <th>name</th>\n",
       "      <th>Local_Authority_(Highway)</th>\n",
       "    </tr>\n",
       "  </thead>\n",
       "  <tbody>\n",
       "    <tr>\n",
       "      <th>0</th>\n",
       "      <td>Isles of Scilly</td>\n",
       "      <td>E06000053</td>\n",
       "    </tr>\n",
       "    <tr>\n",
       "      <th>1</th>\n",
       "      <td>Nottinghamshire</td>\n",
       "      <td>E10000024</td>\n",
       "    </tr>\n",
       "    <tr>\n",
       "      <th>2</th>\n",
       "      <td>Glasgow City</td>\n",
       "      <td>S12000049</td>\n",
       "    </tr>\n",
       "    <tr>\n",
       "      <th>3</th>\n",
       "      <td>North Lanarkshire</td>\n",
       "      <td>S12000050</td>\n",
       "    </tr>\n",
       "    <tr>\n",
       "      <th>4</th>\n",
       "      <td>Somerset</td>\n",
       "      <td>E10000027</td>\n",
       "    </tr>\n",
       "    <tr>\n",
       "      <th>...</th>\n",
       "      <td>...</td>\n",
       "      <td>...</td>\n",
       "    </tr>\n",
       "    <tr>\n",
       "      <th>4</th>\n",
       "      <td>Perth and Kinross</td>\n",
       "      <td>S12000024</td>\n",
       "    </tr>\n",
       "    <tr>\n",
       "      <th>5</th>\n",
       "      <td>Fife</td>\n",
       "      <td>S12000015</td>\n",
       "    </tr>\n",
       "    <tr>\n",
       "      <th>6</th>\n",
       "      <td>Glasgow City</td>\n",
       "      <td>S12000043</td>\n",
       "    </tr>\n",
       "    <tr>\n",
       "      <th>7</th>\n",
       "      <td>East Dunbartonshire</td>\n",
       "      <td>S12000009</td>\n",
       "    </tr>\n",
       "    <tr>\n",
       "      <th>8</th>\n",
       "      <td>North Lanarkshire</td>\n",
       "      <td>S12000044</td>\n",
       "    </tr>\n",
       "  </tbody>\n",
       "</table>\n",
       "<p>221 rows × 2 columns</p>\n",
       "</div>"
      ],
      "text/plain": [
       "                   name Local_Authority_(Highway)\n",
       "0       Isles of Scilly                 E06000053\n",
       "1       Nottinghamshire                 E10000024\n",
       "2          Glasgow City                 S12000049\n",
       "3     North Lanarkshire                 S12000050\n",
       "4              Somerset                 E10000027\n",
       "..                  ...                       ...\n",
       "4     Perth and Kinross                 S12000024\n",
       "5                  Fife                 S12000015\n",
       "6          Glasgow City                 S12000043\n",
       "7   East Dunbartonshire                 S12000009\n",
       "8     North Lanarkshire                 S12000044\n",
       "\n",
       "[221 rows x 2 columns]"
      ]
     },
     "execution_count": 25,
     "metadata": {},
     "output_type": "execute_result"
    }
   ],
   "source": [
    "local_auth_uk_filter_new"
   ]
  },
  {
   "cell_type": "markdown",
   "metadata": {},
   "source": [
    "### Posta kodları ve posta kodlarının district isimleriyle birlikte bulunan veri setini ana veri setinin birleştirilmesi"
   ]
  },
  {
   "cell_type": "code",
   "execution_count": 26,
   "metadata": {},
   "outputs": [],
   "source": [
    "final_merge = local_auth.merge(local_auth_uk_filter_new, on=\"Local_Authority_(Highway)\", how=\"left\")"
   ]
  },
  {
   "cell_type": "markdown",
   "metadata": {},
   "source": [
    "#### Eksik veri var mı kontrolü"
   ]
  },
  {
   "cell_type": "code",
   "execution_count": 28,
   "metadata": {},
   "outputs": [
    {
     "data": {
      "text/plain": [
       "1469609"
      ]
     },
     "execution_count": 28,
     "metadata": {},
     "output_type": "execute_result"
    }
   ],
   "source": [
    "len(final_merge)"
   ]
  },
  {
   "cell_type": "code",
   "execution_count": 29,
   "metadata": {},
   "outputs": [
    {
     "data": {
      "text/plain": [
       "1469609"
      ]
     },
     "execution_count": 29,
     "metadata": {},
     "output_type": "execute_result"
    }
   ],
   "source": [
    "len(data_filter)"
   ]
  },
  {
   "cell_type": "code",
   "execution_count": 30,
   "metadata": {},
   "outputs": [],
   "source": [
    "data_filter[\"District\"] = final_merge[\"name\"]"
   ]
  },
  {
   "cell_type": "code",
   "execution_count": 31,
   "metadata": {},
   "outputs": [],
   "source": [
    "data_filter.to_csv(\"data_filter.csv\")"
   ]
  },
  {
   "cell_type": "markdown",
   "metadata": {},
   "source": [
    "### TABLEAU LINK"
   ]
  },
  {
   "cell_type": "markdown",
   "metadata": {},
   "source": [
    "https://public.tableau.com/shared/Y2X6DY3KJ?:display_count=n&:origin=viz_share_link"
   ]
  }
 ],
 "metadata": {
  "kernelspec": {
   "display_name": "Python 3",
   "language": "python",
   "name": "python3"
  },
  "language_info": {
   "codemirror_mode": {
    "name": "ipython",
    "version": 3
   },
   "file_extension": ".py",
   "mimetype": "text/x-python",
   "name": "python",
   "nbconvert_exporter": "python",
   "pygments_lexer": "ipython3",
   "version": "3.11.5"
  }
 },
 "nbformat": 4,
 "nbformat_minor": 2
}
