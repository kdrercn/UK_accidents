{
 "cells": [
  {
   "cell_type": "code",
   "execution_count": null,
   "metadata": {},
   "outputs": [],
   "source": [
    "import pandas as pd"
   ]
  },
  {
   "cell_type": "code",
   "execution_count": null,
   "metadata": {},
   "outputs": [],
   "source": [
    "data = pd.read_csv(\"data/clean_data.csv\")"
   ]
  },
  {
   "cell_type": "code",
   "execution_count": null,
   "metadata": {},
   "outputs": [],
   "source": [
    "data_geo = data[[\"Accident_Index\",\"Longitude\",\"Latitude\",\"Local_Authority_(Highway)\"]]"
   ]
  },
  {
   "cell_type": "code",
   "execution_count": null,
   "metadata": {},
   "outputs": [],
   "source": [
    "import geopandas\n",
    "from geodatasets import get_path"
   ]
  },
  {
   "cell_type": "code",
   "execution_count": null,
   "metadata": {},
   "outputs": [],
   "source": [
    "gdf_uk = geopandas.read_file(\"data/uk_lad.geojson\")"
   ]
  },
  {
   "cell_type": "code",
   "execution_count": null,
   "metadata": {},
   "outputs": [],
   "source": [
    "gdf_uk"
   ]
  },
  {
   "cell_type": "code",
   "execution_count": null,
   "metadata": {},
   "outputs": [],
   "source": [
    "gdf_uk_locals = gdf_uk[[\"reference\", \"geometry\"]]\n",
    "\n",
    "gdf_uk_locals"
   ]
  },
  {
   "cell_type": "code",
   "execution_count": null,
   "metadata": {},
   "outputs": [],
   "source": [
    "from shapely.geometry import Point\n",
    "import pandas as pd\n",
    "import geopandas as gpd"
   ]
  },
  {
   "cell_type": "code",
   "execution_count": null,
   "metadata": {},
   "outputs": [],
   "source": [
    "data = pd.read_csv(\"data/clean_data.csv\")\n",
    "df = data[[\"Accident_Index\",\"Longitude\",\"Latitude\",\"Local_Authority_(Highway)\"]]\n",
    "\n",
    "geometry = [Point(xy) for xy in zip(df['Longitude'], df['Latitude'])]"
   ]
  },
  {
   "cell_type": "code",
   "execution_count": null,
   "metadata": {},
   "outputs": [],
   "source": [
    "crs = {'init':'epsg:4326'}\n",
    "geo_df = gpd.GeoDataFrame(df, #specify our KnC\n",
    "                          crs=crs, #specify our coordinate reference system\n",
    "                          geometry=geometry) #specify the geometry list we created\n",
    "geo_df.head()"
   ]
  },
  {
   "cell_type": "markdown",
   "metadata": {},
   "source": [
    "#### MOCK"
   ]
  },
  {
   "cell_type": "code",
   "execution_count": null,
   "metadata": {},
   "outputs": [],
   "source": [
    "first = gdf_uk[gdf_uk[\"reference\"] == \"E09000020\"].index\n",
    "geo = gdf_uk.iloc[first][\"geometry\"]\n",
    "geometry[674].within(geo)"
   ]
  },
  {
   "cell_type": "markdown",
   "metadata": {},
   "source": [
    "### Show maps with input"
   ]
  },
  {
   "cell_type": "code",
   "execution_count": null,
   "metadata": {},
   "outputs": [],
   "source": [
    "gdf_uk[\"name\"]"
   ]
  },
  {
   "cell_type": "code",
   "execution_count": null,
   "metadata": {},
   "outputs": [],
   "source": [
    "input_district = input()\n",
    "district = gdf_uk[gdf_uk[\"name\"] == input_district]\n",
    "code = district[\"reference\"]"
   ]
  },
  {
   "cell_type": "code",
   "execution_count": null,
   "metadata": {},
   "outputs": [],
   "source": [
    "district = data_geo[data_geo[\"Local_Authority_(Highway)\"] == code.values[0]]\n",
    "district"
   ]
  },
  {
   "cell_type": "code",
   "execution_count": null,
   "metadata": {},
   "outputs": [],
   "source": [
    "district_locs = district[[\"Latitude\",\"Longitude\"]]\n",
    "district_locs"
   ]
  },
  {
   "cell_type": "code",
   "execution_count": null,
   "metadata": {},
   "outputs": [],
   "source": [
    "import folium\n",
    "import pandas as pd\n",
    "import webbrowser\n",
    "new = 2\n",
    "# Create a map centered around an initial point\n",
    "m = folium.Map(location=[district_locs['Latitude'].mean(), district_locs['Longitude'].mean()], zoom_start=12, prefer_canvas=True)\n",
    "\n",
    "# Add a marker for each data point (you may want to subsample or aggregate your data)\n",
    "for index, row in district_locs.iterrows():\n",
    "    folium.CircleMarker(\n",
    "        location=[row['Latitude'], row['Longitude']],\n",
    "        radius=3,  # Adjust the radius as needed\n",
    "        fill=True,  # Fill the circle\n",
    "        color='blue',  # Circle color\n",
    "        fill_color='blue',  # Fill color\n",
    "    ).add_to(m)\n",
    "\n",
    "# Save the map to an HTML file\n",
    "url = str(code.values[0])+ \"_map.html\"\n",
    "webbrowser.open(url,new=new)\n",
    "m.save(str(code.values[0])+ \"_map.html\")"
   ]
  },
  {
   "cell_type": "markdown",
   "metadata": {},
   "source": [
    "### Kensington_and_Chelsea District (E09000020) Accidents in Map"
   ]
  },
  {
   "cell_type": "code",
   "execution_count": null,
   "metadata": {},
   "outputs": [],
   "source": [
    "Kensington_and_Chelsea = data_geo[data_geo[\"Local_Authority_(Highway)\"] == code.values[0]]"
   ]
  },
  {
   "cell_type": "code",
   "execution_count": null,
   "metadata": {},
   "outputs": [],
   "source": [
    "KnC_locs = Kensington_and_Chelsea[[\"Latitude\",\"Longitude\"]]"
   ]
  },
  {
   "cell_type": "code",
   "execution_count": null,
   "metadata": {},
   "outputs": [],
   "source": [
    "# KnC_locs.to_csv(r\"data\\KnC_locs.csv\")"
   ]
  },
  {
   "cell_type": "code",
   "execution_count": null,
   "metadata": {},
   "outputs": [],
   "source": [
    "import folium\n",
    "import pandas as pd\n",
    "\n",
    "# Create a map centered around an initial point\n",
    "m = folium.Map(location=[KnC_locs['Latitude'].mean(), KnC_locs['Longitude'].mean()], zoom_start=15, prefer_canvas=True)\n",
    "\n",
    "# Add a marker for each data point (you may want to subsample or aggregate your data)\n",
    "for index, row in KnC_locs.iterrows():\n",
    "    folium.CircleMarker(\n",
    "        location=[row['Latitude'], row['Longitude']],\n",
    "        radius=3,  # Adjust the radius as needed\n",
    "        fill=True,  # Fill the circle\n",
    "        color='blue',  # Circle color\n",
    "        fill_color='blue',  # Fill color\n",
    "    ).add_to(m)\n",
    "\n",
    "# Save the map to an HTML file\n",
    "m.save('E09000020_map.html')"
   ]
  },
  {
   "cell_type": "markdown",
   "metadata": {},
   "source": [
    "### Map Visualizations"
   ]
  },
  {
   "cell_type": "code",
   "execution_count": null,
   "metadata": {},
   "outputs": [],
   "source": [
    "import pandas as pd\n",
    "import numpy as np\n",
    "import seaborn as sns\n",
    "import matplotlib.pyplot as plt\n",
    "from tqdm import tqdm\n",
    "from sklearn.cluster import KMeans, DBSCAN\n",
    "from sklearn.metrics import silhouette_score\n",
    "from sklearn.datasets import make_blobs\n",
    "from sklearn.neighbors import KNeighborsClassifier\n",
    "from ipywidgets import interactive\n",
    "from collections import defaultdict\n",
    "import hdbscan\n",
    "import folium\n",
    "import re\n",
    "cols = ['#e6194b', '#3cb44b', '#ffe119', '#4363d8', '#f58231', '#911eb4',\n",
    "        '#46f0f0', '#f032e6', '#bcf60c', '#fabebe', '#008080', '#e6beff', \n",
    "        '#9a6324', '#fffac8', '#800000', '#aaffc3', '#808000', '#ffd8b1', \n",
    "        '#000075', '#808080']*10\n",
    "sns.set(style=\"white\")"
   ]
  },
  {
   "cell_type": "code",
   "execution_count": null,
   "metadata": {},
   "outputs": [],
   "source": [
    "X = np.array(KnC_locs[[\"Latitude\", \"Longitude\"]], dtype=\"float64\")\n",
    "plt.scatter(X[:,0], X[:,1], alpha=0.2, s=50)"
   ]
  },
  {
   "cell_type": "code",
   "execution_count": null,
   "metadata": {},
   "outputs": [],
   "source": [
    "import pandas as pd\n",
    "import folium\n",
    "from folium.plugins import MarkerCluster\n",
    "\n",
    "# Create a dataframe from your data\n",
    "KnC = KnC_locs\n",
    "\n",
    "# Initialize a map centered around the first data point\n",
    "map_center = [KnC['Latitude'].iloc[0], KnC['Longitude'].iloc[0]]\n",
    "m = folium.Map(location=map_center, zoom_start=12)\n",
    "\n",
    "# Create a MarkerCluster layer for the clustered points\n",
    "marker_cluster = MarkerCluster().add_to(m)\n",
    "\n",
    "# Add markers for each data point with cluster labels\n",
    "for _, row in KnC.iterrows():\n",
    "    folium.Marker([row['Latitude'], row['Longitude']], icon=None).add_to(marker_cluster)\n",
    "\n",
    "# Save the map to an HTML file\n",
    "m.save('map.html')"
   ]
  },
  {
   "cell_type": "markdown",
   "metadata": {},
   "source": [
    "### Cluster with DBSCAN"
   ]
  },
  {
   "cell_type": "code",
   "execution_count": null,
   "metadata": {},
   "outputs": [],
   "source": [
    "import numpy as np\n",
    "import pandas as pd\n",
    "import seaborn as sns\n",
    "import matplotlib.pyplot as plt\n",
    "import matplotlib.cm as cm\n",
    "from sklearn.cluster import DBSCAN\n",
    "import random"
   ]
  },
  {
   "cell_type": "code",
   "execution_count": null,
   "metadata": {},
   "outputs": [],
   "source": [
    "X_train = district_locs"
   ]
  },
  {
   "cell_type": "code",
   "execution_count": null,
   "metadata": {},
   "outputs": [],
   "source": [
    "clustering = DBSCAN(eps=0.0006, min_samples=4).fit(X_train)\n",
    "DBSCAN_dataset = X_train.copy()\n",
    "DBSCAN_dataset.loc[:,'Cluster'] = clustering.labels_ "
   ]
  },
  {
   "cell_type": "code",
   "execution_count": null,
   "metadata": {},
   "outputs": [],
   "source": [
    "data2 = DBSCAN_dataset"
   ]
  },
  {
   "cell_type": "code",
   "execution_count": null,
   "metadata": {},
   "outputs": [],
   "source": [
    "# Create a map centered around a specific location (e.g., San Francisco)\n",
    "m = folium.Map(location=[district_locs['Latitude'].mean(), district_locs['Longitude'].mean()], zoom_start=12, prefer_canvas=True)\n",
    "\n",
    "# Define colors for clusters\n",
    "num_clusters = 120\n",
    "# Generate a list of distinct colors using a colormap\n",
    "colors = cm.viridis(np.linspace(0, 1, num_clusters))\n",
    "\n",
    "# Convert the colors to hexadecimal format\n",
    "cluster_colors = {i + 1: \"#{:02x}{:02x}{:02x}\".format(int(c[0] * 255), int(c[1] * 255), int(c[2] * 255)) for i, c in enumerate(colors)}\n",
    "\n",
    "# Add markers to the map with cluster-based colors\n",
    "for index, row in data2.iterrows():\n",
    "    cluster = row['Cluster']\n",
    "    color = cluster_colors.get(cluster, 'gray')\n",
    "    folium.CircleMarker(location=(row['Latitude'], row['Longitude']),\n",
    "                        color=color,\n",
    "                        fill=True,\n",
    "                        fill_color=color,\n",
    "                        radius=3).add_to(m)\n",
    "\n",
    "# Save or display the map\n",
    "m.save(str(code.values[0])+ \"_kmeansclustermap.html\")\n",
    "url = str(code.values[0])+ \"_kmeansclustermap.html\"\n",
    "webbrowser.open(url,new=new)"
   ]
  },
  {
   "cell_type": "markdown",
   "metadata": {},
   "source": [
    "### Cluster with K-Means"
   ]
  },
  {
   "cell_type": "code",
   "execution_count": null,
   "metadata": {},
   "outputs": [],
   "source": [
    "import pandas as pd\n",
    "import folium\n",
    "from sklearn.cluster import KMeans\n",
    "import math "
   ]
  },
  {
   "cell_type": "code",
   "execution_count": null,
   "metadata": {},
   "outputs": [],
   "source": [
    "# Load your data into a pandas dataframe\n",
    "data1 = district_locs\n",
    "# Extract the latitude and longitude columns\n",
    "X = data1[['Latitude', 'Longitude']]"
   ]
  },
  {
   "cell_type": "code",
   "execution_count": null,
   "metadata": {},
   "outputs": [],
   "source": [
    "# Specify the number of clusters (k)\n",
    "k = round(math.sqrt(len(X)/2))  # You can adjust this based on your requirements"
   ]
  },
  {
   "cell_type": "code",
   "execution_count": null,
   "metadata": {},
   "outputs": [],
   "source": [
    "# Create a KMeans model\n",
    "kmeans = KMeans(n_clusters=k, random_state=42)\n",
    "\n",
    "# Fit the model to your data\n",
    "kmeans.fit(X)"
   ]
  },
  {
   "cell_type": "code",
   "execution_count": null,
   "metadata": {},
   "outputs": [],
   "source": [
    "# Add the cluster labels to your dataframe\n",
    "data1['Cluster'] = kmeans.labels_"
   ]
  },
  {
   "cell_type": "code",
   "execution_count": null,
   "metadata": {},
   "outputs": [],
   "source": [
    "m = folium.Map(location=[district_locs['Latitude'].mean(), district_locs['Longitude'].mean()], zoom_start=12, prefer_canvas=True)\n",
    "\n",
    "# Create points with different random colors for each cluster\n",
    "cluster_colors = {}\n",
    "for _, row in data1.iterrows():\n",
    "    cluster_label = row['Cluster']\n",
    "    if cluster_label not in cluster_colors:\n",
    "        cluster_colors[cluster_label] = \"#{:02x}{:02x}{:02x}\".format(random.randint(0, 255), random.randint(0, 255), random.randint(0, 255))\n",
    "    color = cluster_colors[cluster_label]\n",
    "    folium.Circle(location=[row['Latitude'], row['Longitude']], radius=2, color=color, fill=True, fill_color=color, fill_opacity=0.6, popup=f\"Cluster {cluster_label}\").add_to(m)\n",
    "\n",
    "# Save the map to an HTML file\n",
    "m.save(str(code.values[0])+ \"_kmeansclustermap.html\")\n",
    "url = str(code.values[0])+ \"_kmeansclustermap.html\"\n",
    "webbrowser.open(url,new=new)"
   ]
  }
 ],
 "metadata": {
  "kernelspec": {
   "display_name": "Python 3",
   "language": "python",
   "name": "python3"
  },
  "language_info": {
   "codemirror_mode": {
    "name": "ipython",
    "version": 3
   },
   "file_extension": ".py",
   "mimetype": "text/x-python",
   "name": "python",
   "nbconvert_exporter": "python",
   "pygments_lexer": "ipython3",
   "version": "3.11.5"
  },
  "orig_nbformat": 4
 },
 "nbformat": 4,
 "nbformat_minor": 2
}
