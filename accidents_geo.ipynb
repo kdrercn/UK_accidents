{
 "cells": [
  {
   "cell_type": "code",
   "execution_count": 1,
   "metadata": {},
   "outputs": [],
   "source": [
    "import pandas as pd"
   ]
  },
  {
   "cell_type": "code",
   "execution_count": 2,
   "metadata": {},
   "outputs": [],
   "source": [
    "data = pd.read_csv(\"data/clean_data.csv\")"
   ]
  },
  {
   "cell_type": "code",
   "execution_count": 3,
   "metadata": {},
   "outputs": [],
   "source": [
    "data_geo = data[[\"Accident_Index\",\"Longitude\",\"Latitude\",\"Local_Authority_(Highway)\"]]"
   ]
  },
  {
   "cell_type": "code",
   "execution_count": 4,
   "metadata": {},
   "outputs": [],
   "source": [
    "import geopandas\n",
    "from geodatasets import get_path"
   ]
  },
  {
   "cell_type": "code",
   "execution_count": 5,
   "metadata": {},
   "outputs": [],
   "source": [
    "gdf_uk = geopandas.read_file(\"data/uk_lad.geojson\")"
   ]
  },
  {
   "cell_type": "code",
   "execution_count": 6,
   "metadata": {},
   "outputs": [
    {
     "data": {
      "text/html": [
       "<div>\n",
       "<style scoped>\n",
       "    .dataframe tbody tr th:only-of-type {\n",
       "        vertical-align: middle;\n",
       "    }\n",
       "\n",
       "    .dataframe tbody tr th {\n",
       "        vertical-align: top;\n",
       "    }\n",
       "\n",
       "    .dataframe thead th {\n",
       "        text-align: right;\n",
       "    }\n",
       "</style>\n",
       "<table border=\"1\" class=\"dataframe\">\n",
       "  <thead>\n",
       "    <tr style=\"text-align: right;\">\n",
       "      <th></th>\n",
       "      <th>dataset</th>\n",
       "      <th>end-date</th>\n",
       "      <th>entity</th>\n",
       "      <th>entry-date</th>\n",
       "      <th>name</th>\n",
       "      <th>organisation-entity</th>\n",
       "      <th>prefix</th>\n",
       "      <th>reference</th>\n",
       "      <th>start-date</th>\n",
       "      <th>typology</th>\n",
       "      <th>geometry</th>\n",
       "    </tr>\n",
       "  </thead>\n",
       "  <tbody>\n",
       "    <tr>\n",
       "      <th>0</th>\n",
       "      <td>local-authority-district</td>\n",
       "      <td></td>\n",
       "      <td>8600000</td>\n",
       "      <td>2023-08-02</td>\n",
       "      <td>Hartlepool</td>\n",
       "      <td>10</td>\n",
       "      <td>statistical-geography</td>\n",
       "      <td>E06000001</td>\n",
       "      <td></td>\n",
       "      <td>geography</td>\n",
       "      <td>MULTIPOLYGON (((-1.22470 54.62611, -1.22455 54...</td>\n",
       "    </tr>\n",
       "    <tr>\n",
       "      <th>1</th>\n",
       "      <td>local-authority-district</td>\n",
       "      <td></td>\n",
       "      <td>8600001</td>\n",
       "      <td>2023-08-02</td>\n",
       "      <td>Middlesbrough</td>\n",
       "      <td>10</td>\n",
       "      <td>statistical-geography</td>\n",
       "      <td>E06000002</td>\n",
       "      <td></td>\n",
       "      <td>geography</td>\n",
       "      <td>MULTIPOLYGON (((-1.27720 54.54784, -1.27714 54...</td>\n",
       "    </tr>\n",
       "    <tr>\n",
       "      <th>2</th>\n",
       "      <td>local-authority-district</td>\n",
       "      <td></td>\n",
       "      <td>8600002</td>\n",
       "      <td>2023-08-02</td>\n",
       "      <td>Redcar and Cleveland</td>\n",
       "      <td>10</td>\n",
       "      <td>statistical-geography</td>\n",
       "      <td>E06000003</td>\n",
       "      <td></td>\n",
       "      <td>geography</td>\n",
       "      <td>MULTIPOLYGON (((-1.20098 54.57763, -1.20174 54...</td>\n",
       "    </tr>\n",
       "    <tr>\n",
       "      <th>3</th>\n",
       "      <td>local-authority-district</td>\n",
       "      <td></td>\n",
       "      <td>8600003</td>\n",
       "      <td>2023-08-02</td>\n",
       "      <td>Stockton-on-Tees</td>\n",
       "      <td>10</td>\n",
       "      <td>statistical-geography</td>\n",
       "      <td>E06000004</td>\n",
       "      <td></td>\n",
       "      <td>geography</td>\n",
       "      <td>MULTIPOLYGON (((-1.27211 54.55337, -1.27178 54...</td>\n",
       "    </tr>\n",
       "    <tr>\n",
       "      <th>4</th>\n",
       "      <td>local-authority-district</td>\n",
       "      <td></td>\n",
       "      <td>8600004</td>\n",
       "      <td>2023-08-02</td>\n",
       "      <td>Darlington</td>\n",
       "      <td>10</td>\n",
       "      <td>statistical-geography</td>\n",
       "      <td>E06000005</td>\n",
       "      <td></td>\n",
       "      <td>geography</td>\n",
       "      <td>POLYGON ((-1.63768 54.61714, -1.63800 54.61720...</td>\n",
       "    </tr>\n",
       "    <tr>\n",
       "      <th>...</th>\n",
       "      <td>...</td>\n",
       "      <td>...</td>\n",
       "      <td>...</td>\n",
       "      <td>...</td>\n",
       "      <td>...</td>\n",
       "      <td>...</td>\n",
       "      <td>...</td>\n",
       "      <td>...</td>\n",
       "      <td>...</td>\n",
       "      <td>...</td>\n",
       "      <td>...</td>\n",
       "    </tr>\n",
       "    <tr>\n",
       "      <th>339</th>\n",
       "      <td>local-authority-district</td>\n",
       "      <td></td>\n",
       "      <td>8600720</td>\n",
       "      <td>2021-12-11</td>\n",
       "      <td>Gateshead</td>\n",
       "      <td>10</td>\n",
       "      <td>statistical-geography</td>\n",
       "      <td>E08000020</td>\n",
       "      <td></td>\n",
       "      <td>geography</td>\n",
       "      <td>POLYGON ((-1.78497 54.98452, -1.78534 54.98454...</td>\n",
       "    </tr>\n",
       "    <tr>\n",
       "      <th>340</th>\n",
       "      <td>local-authority-district</td>\n",
       "      <td></td>\n",
       "      <td>8600721</td>\n",
       "      <td>2023-08-02</td>\n",
       "      <td>Cumberland</td>\n",
       "      <td>10</td>\n",
       "      <td>statistical-geography</td>\n",
       "      <td>E06000063</td>\n",
       "      <td></td>\n",
       "      <td>geography</td>\n",
       "      <td>MULTIPOLYGON (((-3.25616 54.21552, -3.25610 54...</td>\n",
       "    </tr>\n",
       "    <tr>\n",
       "      <th>341</th>\n",
       "      <td>local-authority-district</td>\n",
       "      <td></td>\n",
       "      <td>8600722</td>\n",
       "      <td>2023-08-02</td>\n",
       "      <td>Westmorland and Furness</td>\n",
       "      <td>10</td>\n",
       "      <td>statistical-geography</td>\n",
       "      <td>E06000064</td>\n",
       "      <td></td>\n",
       "      <td>geography</td>\n",
       "      <td>MULTIPOLYGON (((-3.20111 54.06410, -3.20087 54...</td>\n",
       "    </tr>\n",
       "    <tr>\n",
       "      <th>342</th>\n",
       "      <td>local-authority-district</td>\n",
       "      <td></td>\n",
       "      <td>8600723</td>\n",
       "      <td>2023-08-02</td>\n",
       "      <td>North Yorkshire</td>\n",
       "      <td>10</td>\n",
       "      <td>statistical-geography</td>\n",
       "      <td>E06000065</td>\n",
       "      <td></td>\n",
       "      <td>geography</td>\n",
       "      <td>MULTIPOLYGON (((-1.00674 53.88894, -1.00801 53...</td>\n",
       "    </tr>\n",
       "    <tr>\n",
       "      <th>343</th>\n",
       "      <td>local-authority-district</td>\n",
       "      <td></td>\n",
       "      <td>8600724</td>\n",
       "      <td>2023-08-02</td>\n",
       "      <td>Somerset</td>\n",
       "      <td>10</td>\n",
       "      <td>statistical-geography</td>\n",
       "      <td>E06000066</td>\n",
       "      <td></td>\n",
       "      <td>geography</td>\n",
       "      <td>MULTIPOLYGON (((-3.01319 51.22560, -3.01354 51...</td>\n",
       "    </tr>\n",
       "  </tbody>\n",
       "</table>\n",
       "<p>344 rows × 11 columns</p>\n",
       "</div>"
      ],
      "text/plain": [
       "                      dataset end-date   entity  entry-date  \\\n",
       "0    local-authority-district           8600000  2023-08-02   \n",
       "1    local-authority-district           8600001  2023-08-02   \n",
       "2    local-authority-district           8600002  2023-08-02   \n",
       "3    local-authority-district           8600003  2023-08-02   \n",
       "4    local-authority-district           8600004  2023-08-02   \n",
       "..                        ...      ...      ...         ...   \n",
       "339  local-authority-district           8600720  2021-12-11   \n",
       "340  local-authority-district           8600721  2023-08-02   \n",
       "341  local-authority-district           8600722  2023-08-02   \n",
       "342  local-authority-district           8600723  2023-08-02   \n",
       "343  local-authority-district           8600724  2023-08-02   \n",
       "\n",
       "                        name organisation-entity                 prefix  \\\n",
       "0                 Hartlepool                  10  statistical-geography   \n",
       "1              Middlesbrough                  10  statistical-geography   \n",
       "2       Redcar and Cleveland                  10  statistical-geography   \n",
       "3           Stockton-on-Tees                  10  statistical-geography   \n",
       "4                 Darlington                  10  statistical-geography   \n",
       "..                       ...                 ...                    ...   \n",
       "339                Gateshead                  10  statistical-geography   \n",
       "340               Cumberland                  10  statistical-geography   \n",
       "341  Westmorland and Furness                  10  statistical-geography   \n",
       "342          North Yorkshire                  10  statistical-geography   \n",
       "343                 Somerset                  10  statistical-geography   \n",
       "\n",
       "     reference start-date   typology  \\\n",
       "0    E06000001             geography   \n",
       "1    E06000002             geography   \n",
       "2    E06000003             geography   \n",
       "3    E06000004             geography   \n",
       "4    E06000005             geography   \n",
       "..         ...        ...        ...   \n",
       "339  E08000020             geography   \n",
       "340  E06000063             geography   \n",
       "341  E06000064             geography   \n",
       "342  E06000065             geography   \n",
       "343  E06000066             geography   \n",
       "\n",
       "                                              geometry  \n",
       "0    MULTIPOLYGON (((-1.22470 54.62611, -1.22455 54...  \n",
       "1    MULTIPOLYGON (((-1.27720 54.54784, -1.27714 54...  \n",
       "2    MULTIPOLYGON (((-1.20098 54.57763, -1.20174 54...  \n",
       "3    MULTIPOLYGON (((-1.27211 54.55337, -1.27178 54...  \n",
       "4    POLYGON ((-1.63768 54.61714, -1.63800 54.61720...  \n",
       "..                                                 ...  \n",
       "339  POLYGON ((-1.78497 54.98452, -1.78534 54.98454...  \n",
       "340  MULTIPOLYGON (((-3.25616 54.21552, -3.25610 54...  \n",
       "341  MULTIPOLYGON (((-3.20111 54.06410, -3.20087 54...  \n",
       "342  MULTIPOLYGON (((-1.00674 53.88894, -1.00801 53...  \n",
       "343  MULTIPOLYGON (((-3.01319 51.22560, -3.01354 51...  \n",
       "\n",
       "[344 rows x 11 columns]"
      ]
     },
     "execution_count": 6,
     "metadata": {},
     "output_type": "execute_result"
    }
   ],
   "source": [
    "gdf_uk"
   ]
  },
  {
   "cell_type": "code",
   "execution_count": 7,
   "metadata": {},
   "outputs": [
    {
     "data": {
      "text/html": [
       "<div>\n",
       "<style scoped>\n",
       "    .dataframe tbody tr th:only-of-type {\n",
       "        vertical-align: middle;\n",
       "    }\n",
       "\n",
       "    .dataframe tbody tr th {\n",
       "        vertical-align: top;\n",
       "    }\n",
       "\n",
       "    .dataframe thead th {\n",
       "        text-align: right;\n",
       "    }\n",
       "</style>\n",
       "<table border=\"1\" class=\"dataframe\">\n",
       "  <thead>\n",
       "    <tr style=\"text-align: right;\">\n",
       "      <th></th>\n",
       "      <th>reference</th>\n",
       "      <th>geometry</th>\n",
       "    </tr>\n",
       "  </thead>\n",
       "  <tbody>\n",
       "    <tr>\n",
       "      <th>0</th>\n",
       "      <td>E06000001</td>\n",
       "      <td>MULTIPOLYGON (((-1.22470 54.62611, -1.22455 54...</td>\n",
       "    </tr>\n",
       "    <tr>\n",
       "      <th>1</th>\n",
       "      <td>E06000002</td>\n",
       "      <td>MULTIPOLYGON (((-1.27720 54.54784, -1.27714 54...</td>\n",
       "    </tr>\n",
       "    <tr>\n",
       "      <th>2</th>\n",
       "      <td>E06000003</td>\n",
       "      <td>MULTIPOLYGON (((-1.20098 54.57763, -1.20174 54...</td>\n",
       "    </tr>\n",
       "    <tr>\n",
       "      <th>3</th>\n",
       "      <td>E06000004</td>\n",
       "      <td>MULTIPOLYGON (((-1.27211 54.55337, -1.27178 54...</td>\n",
       "    </tr>\n",
       "    <tr>\n",
       "      <th>4</th>\n",
       "      <td>E06000005</td>\n",
       "      <td>POLYGON ((-1.63768 54.61714, -1.63800 54.61720...</td>\n",
       "    </tr>\n",
       "    <tr>\n",
       "      <th>...</th>\n",
       "      <td>...</td>\n",
       "      <td>...</td>\n",
       "    </tr>\n",
       "    <tr>\n",
       "      <th>339</th>\n",
       "      <td>E08000020</td>\n",
       "      <td>POLYGON ((-1.78497 54.98452, -1.78534 54.98454...</td>\n",
       "    </tr>\n",
       "    <tr>\n",
       "      <th>340</th>\n",
       "      <td>E06000063</td>\n",
       "      <td>MULTIPOLYGON (((-3.25616 54.21552, -3.25610 54...</td>\n",
       "    </tr>\n",
       "    <tr>\n",
       "      <th>341</th>\n",
       "      <td>E06000064</td>\n",
       "      <td>MULTIPOLYGON (((-3.20111 54.06410, -3.20087 54...</td>\n",
       "    </tr>\n",
       "    <tr>\n",
       "      <th>342</th>\n",
       "      <td>E06000065</td>\n",
       "      <td>MULTIPOLYGON (((-1.00674 53.88894, -1.00801 53...</td>\n",
       "    </tr>\n",
       "    <tr>\n",
       "      <th>343</th>\n",
       "      <td>E06000066</td>\n",
       "      <td>MULTIPOLYGON (((-3.01319 51.22560, -3.01354 51...</td>\n",
       "    </tr>\n",
       "  </tbody>\n",
       "</table>\n",
       "<p>344 rows × 2 columns</p>\n",
       "</div>"
      ],
      "text/plain": [
       "     reference                                           geometry\n",
       "0    E06000001  MULTIPOLYGON (((-1.22470 54.62611, -1.22455 54...\n",
       "1    E06000002  MULTIPOLYGON (((-1.27720 54.54784, -1.27714 54...\n",
       "2    E06000003  MULTIPOLYGON (((-1.20098 54.57763, -1.20174 54...\n",
       "3    E06000004  MULTIPOLYGON (((-1.27211 54.55337, -1.27178 54...\n",
       "4    E06000005  POLYGON ((-1.63768 54.61714, -1.63800 54.61720...\n",
       "..         ...                                                ...\n",
       "339  E08000020  POLYGON ((-1.78497 54.98452, -1.78534 54.98454...\n",
       "340  E06000063  MULTIPOLYGON (((-3.25616 54.21552, -3.25610 54...\n",
       "341  E06000064  MULTIPOLYGON (((-3.20111 54.06410, -3.20087 54...\n",
       "342  E06000065  MULTIPOLYGON (((-1.00674 53.88894, -1.00801 53...\n",
       "343  E06000066  MULTIPOLYGON (((-3.01319 51.22560, -3.01354 51...\n",
       "\n",
       "[344 rows x 2 columns]"
      ]
     },
     "execution_count": 7,
     "metadata": {},
     "output_type": "execute_result"
    }
   ],
   "source": [
    "gdf_uk_locals = gdf_uk[[\"reference\", \"geometry\"]]\n",
    "\n",
    "gdf_uk_locals"
   ]
  },
  {
   "cell_type": "code",
   "execution_count": 8,
   "metadata": {},
   "outputs": [],
   "source": [
    "from shapely.geometry import Point\n",
    "import pandas as pd\n",
    "import geopandas as gpd"
   ]
  },
  {
   "cell_type": "code",
   "execution_count": 9,
   "metadata": {},
   "outputs": [],
   "source": [
    "data = pd.read_csv(\"data/clean_data.csv\")\n",
    "df = data[[\"Accident_Index\",\"Longitude\",\"Latitude\",\"Local_Authority_(Highway)\"]]\n",
    "\n",
    "geometry = [Point(xy) for xy in zip(df[\"Longitude\"], df[\"Latitude\"])]"
   ]
  },
  {
   "cell_type": "code",
   "execution_count": 10,
   "metadata": {},
   "outputs": [
    {
     "name": "stderr",
     "output_type": "stream",
     "text": [
      "c:\\Users\\kdrer\\AppData\\Local\\Programs\\Python\\Python311\\Lib\\site-packages\\pyproj\\crs\\crs.py:141: FutureWarning: '+init=<authority>:<code>' syntax is deprecated. '<authority>:<code>' is the preferred initialization method. When making the change, be mindful of axis order changes: https://pyproj4.github.io/pyproj/stable/gotchas.html#axis-order-changes-in-proj-6\n",
      "  in_crs_string = _prepare_from_proj_string(in_crs_string)\n"
     ]
    },
    {
     "data": {
      "text/html": [
       "<div>\n",
       "<style scoped>\n",
       "    .dataframe tbody tr th:only-of-type {\n",
       "        vertical-align: middle;\n",
       "    }\n",
       "\n",
       "    .dataframe tbody tr th {\n",
       "        vertical-align: top;\n",
       "    }\n",
       "\n",
       "    .dataframe thead th {\n",
       "        text-align: right;\n",
       "    }\n",
       "</style>\n",
       "<table border=\"1\" class=\"dataframe\">\n",
       "  <thead>\n",
       "    <tr style=\"text-align: right;\">\n",
       "      <th></th>\n",
       "      <th>Accident_Index</th>\n",
       "      <th>Longitude</th>\n",
       "      <th>Latitude</th>\n",
       "      <th>Local_Authority_(Highway)</th>\n",
       "      <th>geometry</th>\n",
       "    </tr>\n",
       "  </thead>\n",
       "  <tbody>\n",
       "    <tr>\n",
       "      <th>0</th>\n",
       "      <td>200501BS00001</td>\n",
       "      <td>-0.191170</td>\n",
       "      <td>51.489096</td>\n",
       "      <td>E09000020</td>\n",
       "      <td>POINT (-0.19117 51.48910)</td>\n",
       "    </tr>\n",
       "    <tr>\n",
       "      <th>1</th>\n",
       "      <td>200501BS00002</td>\n",
       "      <td>-0.211708</td>\n",
       "      <td>51.520075</td>\n",
       "      <td>E09000020</td>\n",
       "      <td>POINT (-0.21171 51.52007)</td>\n",
       "    </tr>\n",
       "    <tr>\n",
       "      <th>2</th>\n",
       "      <td>200501BS00003</td>\n",
       "      <td>-0.206458</td>\n",
       "      <td>51.525301</td>\n",
       "      <td>E09000020</td>\n",
       "      <td>POINT (-0.20646 51.52530)</td>\n",
       "    </tr>\n",
       "    <tr>\n",
       "      <th>3</th>\n",
       "      <td>200501BS00004</td>\n",
       "      <td>-0.173862</td>\n",
       "      <td>51.482442</td>\n",
       "      <td>E09000020</td>\n",
       "      <td>POINT (-0.17386 51.48244)</td>\n",
       "    </tr>\n",
       "    <tr>\n",
       "      <th>4</th>\n",
       "      <td>200501BS00005</td>\n",
       "      <td>-0.156618</td>\n",
       "      <td>51.495752</td>\n",
       "      <td>E09000020</td>\n",
       "      <td>POINT (-0.15662 51.49575)</td>\n",
       "    </tr>\n",
       "  </tbody>\n",
       "</table>\n",
       "</div>"
      ],
      "text/plain": [
       "  Accident_Index  Longitude   Latitude Local_Authority_(Highway)  \\\n",
       "0  200501BS00001  -0.191170  51.489096                 E09000020   \n",
       "1  200501BS00002  -0.211708  51.520075                 E09000020   \n",
       "2  200501BS00003  -0.206458  51.525301                 E09000020   \n",
       "3  200501BS00004  -0.173862  51.482442                 E09000020   \n",
       "4  200501BS00005  -0.156618  51.495752                 E09000020   \n",
       "\n",
       "                    geometry  \n",
       "0  POINT (-0.19117 51.48910)  \n",
       "1  POINT (-0.21171 51.52007)  \n",
       "2  POINT (-0.20646 51.52530)  \n",
       "3  POINT (-0.17386 51.48244)  \n",
       "4  POINT (-0.15662 51.49575)  "
      ]
     },
     "execution_count": 10,
     "metadata": {},
     "output_type": "execute_result"
    }
   ],
   "source": [
    "crs = {\"init\":\"epsg:4326\"}\n",
    "geo_df = gpd.GeoDataFrame(df, #specify our KnC\n",
    "                          crs=crs, #specify our coordinate reference system\n",
    "                          geometry=geometry) #specify the geometry list we created\n",
    "geo_df.head()"
   ]
  },
  {
   "cell_type": "markdown",
   "metadata": {},
   "source": [
    "#### MOCK"
   ]
  },
  {
   "cell_type": "code",
   "execution_count": 11,
   "metadata": {},
   "outputs": [
    {
     "data": {
      "text/plain": [
       "303    True\n",
       "Name: geometry, dtype: bool"
      ]
     },
     "execution_count": 11,
     "metadata": {},
     "output_type": "execute_result"
    }
   ],
   "source": [
    "first = gdf_uk[gdf_uk[\"reference\"] == \"E09000020\"].index\n",
    "geo = gdf_uk.iloc[first][\"geometry\"]\n",
    "geometry[674].within(geo)"
   ]
  },
  {
   "cell_type": "markdown",
   "metadata": {},
   "source": [
    "### Show maps with input"
   ]
  },
  {
   "cell_type": "code",
   "execution_count": 13,
   "metadata": {},
   "outputs": [],
   "source": [
    "district_names = gdf_uk[\"name\"]"
   ]
  },
  {
   "cell_type": "code",
   "execution_count": 17,
   "metadata": {},
   "outputs": [],
   "source": [
    "input_district = input()\n",
    "district = gdf_uk[gdf_uk[\"name\"] == input_district]\n",
    "code = district[\"reference\"]"
   ]
  },
  {
   "cell_type": "code",
   "execution_count": 18,
   "metadata": {},
   "outputs": [
    {
     "data": {
      "text/html": [
       "<div>\n",
       "<style scoped>\n",
       "    .dataframe tbody tr th:only-of-type {\n",
       "        vertical-align: middle;\n",
       "    }\n",
       "\n",
       "    .dataframe tbody tr th {\n",
       "        vertical-align: top;\n",
       "    }\n",
       "\n",
       "    .dataframe thead th {\n",
       "        text-align: right;\n",
       "    }\n",
       "</style>\n",
       "<table border=\"1\" class=\"dataframe\">\n",
       "  <thead>\n",
       "    <tr style=\"text-align: right;\">\n",
       "      <th></th>\n",
       "      <th>Accident_Index</th>\n",
       "      <th>Longitude</th>\n",
       "      <th>Latitude</th>\n",
       "      <th>Local_Authority_(Highway)</th>\n",
       "    </tr>\n",
       "  </thead>\n",
       "  <tbody>\n",
       "    <tr>\n",
       "      <th>69892</th>\n",
       "      <td>200514B024805</td>\n",
       "      <td>-1.569295</td>\n",
       "      <td>53.481715</td>\n",
       "      <td>E08000019</td>\n",
       "    </tr>\n",
       "    <tr>\n",
       "      <th>70953</th>\n",
       "      <td>200514C112905</td>\n",
       "      <td>-1.409943</td>\n",
       "      <td>53.421618</td>\n",
       "      <td>E08000019</td>\n",
       "    </tr>\n",
       "    <tr>\n",
       "      <th>71169</th>\n",
       "      <td>200514C169205</td>\n",
       "      <td>-1.409791</td>\n",
       "      <td>53.421798</td>\n",
       "      <td>E08000019</td>\n",
       "    </tr>\n",
       "    <tr>\n",
       "      <th>71212</th>\n",
       "      <td>200514C178905</td>\n",
       "      <td>-1.389972</td>\n",
       "      <td>53.408125</td>\n",
       "      <td>E08000019</td>\n",
       "    </tr>\n",
       "    <tr>\n",
       "      <th>71362</th>\n",
       "      <td>200514D000305</td>\n",
       "      <td>-1.467799</td>\n",
       "      <td>53.367687</td>\n",
       "      <td>E08000019</td>\n",
       "    </tr>\n",
       "    <tr>\n",
       "      <th>...</th>\n",
       "      <td>...</td>\n",
       "      <td>...</td>\n",
       "      <td>...</td>\n",
       "      <td>...</td>\n",
       "    </tr>\n",
       "    <tr>\n",
       "      <th>1378785</th>\n",
       "      <td>201414K335414</td>\n",
       "      <td>-1.452217</td>\n",
       "      <td>53.407330</td>\n",
       "      <td>E08000019</td>\n",
       "    </tr>\n",
       "    <tr>\n",
       "      <th>1378786</th>\n",
       "      <td>201414K335514</td>\n",
       "      <td>-1.402391</td>\n",
       "      <td>53.414058</td>\n",
       "      <td>E08000019</td>\n",
       "    </tr>\n",
       "    <tr>\n",
       "      <th>1378787</th>\n",
       "      <td>201414K335614</td>\n",
       "      <td>-1.419865</td>\n",
       "      <td>53.396957</td>\n",
       "      <td>E08000019</td>\n",
       "    </tr>\n",
       "    <tr>\n",
       "      <th>1378788</th>\n",
       "      <td>201414K335914</td>\n",
       "      <td>-1.516189</td>\n",
       "      <td>53.328154</td>\n",
       "      <td>E08000019</td>\n",
       "    </tr>\n",
       "    <tr>\n",
       "      <th>1378789</th>\n",
       "      <td>201414K336114</td>\n",
       "      <td>-1.409450</td>\n",
       "      <td>53.387728</td>\n",
       "      <td>E08000019</td>\n",
       "    </tr>\n",
       "  </tbody>\n",
       "</table>\n",
       "<p>12513 rows × 4 columns</p>\n",
       "</div>"
      ],
      "text/plain": [
       "        Accident_Index  Longitude   Latitude Local_Authority_(Highway)\n",
       "69892    200514B024805  -1.569295  53.481715                 E08000019\n",
       "70953    200514C112905  -1.409943  53.421618                 E08000019\n",
       "71169    200514C169205  -1.409791  53.421798                 E08000019\n",
       "71212    200514C178905  -1.389972  53.408125                 E08000019\n",
       "71362    200514D000305  -1.467799  53.367687                 E08000019\n",
       "...                ...        ...        ...                       ...\n",
       "1378785  201414K335414  -1.452217  53.407330                 E08000019\n",
       "1378786  201414K335514  -1.402391  53.414058                 E08000019\n",
       "1378787  201414K335614  -1.419865  53.396957                 E08000019\n",
       "1378788  201414K335914  -1.516189  53.328154                 E08000019\n",
       "1378789  201414K336114  -1.409450  53.387728                 E08000019\n",
       "\n",
       "[12513 rows x 4 columns]"
      ]
     },
     "execution_count": 18,
     "metadata": {},
     "output_type": "execute_result"
    }
   ],
   "source": [
    "district = data_geo[data_geo[\"Local_Authority_(Highway)\"] == code.values[0]]\n",
    "district"
   ]
  },
  {
   "cell_type": "code",
   "execution_count": 19,
   "metadata": {},
   "outputs": [
    {
     "data": {
      "text/html": [
       "<div>\n",
       "<style scoped>\n",
       "    .dataframe tbody tr th:only-of-type {\n",
       "        vertical-align: middle;\n",
       "    }\n",
       "\n",
       "    .dataframe tbody tr th {\n",
       "        vertical-align: top;\n",
       "    }\n",
       "\n",
       "    .dataframe thead th {\n",
       "        text-align: right;\n",
       "    }\n",
       "</style>\n",
       "<table border=\"1\" class=\"dataframe\">\n",
       "  <thead>\n",
       "    <tr style=\"text-align: right;\">\n",
       "      <th></th>\n",
       "      <th>Latitude</th>\n",
       "      <th>Longitude</th>\n",
       "    </tr>\n",
       "  </thead>\n",
       "  <tbody>\n",
       "    <tr>\n",
       "      <th>69892</th>\n",
       "      <td>53.481715</td>\n",
       "      <td>-1.569295</td>\n",
       "    </tr>\n",
       "    <tr>\n",
       "      <th>70953</th>\n",
       "      <td>53.421618</td>\n",
       "      <td>-1.409943</td>\n",
       "    </tr>\n",
       "    <tr>\n",
       "      <th>71169</th>\n",
       "      <td>53.421798</td>\n",
       "      <td>-1.409791</td>\n",
       "    </tr>\n",
       "    <tr>\n",
       "      <th>71212</th>\n",
       "      <td>53.408125</td>\n",
       "      <td>-1.389972</td>\n",
       "    </tr>\n",
       "    <tr>\n",
       "      <th>71362</th>\n",
       "      <td>53.367687</td>\n",
       "      <td>-1.467799</td>\n",
       "    </tr>\n",
       "    <tr>\n",
       "      <th>...</th>\n",
       "      <td>...</td>\n",
       "      <td>...</td>\n",
       "    </tr>\n",
       "    <tr>\n",
       "      <th>1378785</th>\n",
       "      <td>53.407330</td>\n",
       "      <td>-1.452217</td>\n",
       "    </tr>\n",
       "    <tr>\n",
       "      <th>1378786</th>\n",
       "      <td>53.414058</td>\n",
       "      <td>-1.402391</td>\n",
       "    </tr>\n",
       "    <tr>\n",
       "      <th>1378787</th>\n",
       "      <td>53.396957</td>\n",
       "      <td>-1.419865</td>\n",
       "    </tr>\n",
       "    <tr>\n",
       "      <th>1378788</th>\n",
       "      <td>53.328154</td>\n",
       "      <td>-1.516189</td>\n",
       "    </tr>\n",
       "    <tr>\n",
       "      <th>1378789</th>\n",
       "      <td>53.387728</td>\n",
       "      <td>-1.409450</td>\n",
       "    </tr>\n",
       "  </tbody>\n",
       "</table>\n",
       "<p>12513 rows × 2 columns</p>\n",
       "</div>"
      ],
      "text/plain": [
       "          Latitude  Longitude\n",
       "69892    53.481715  -1.569295\n",
       "70953    53.421618  -1.409943\n",
       "71169    53.421798  -1.409791\n",
       "71212    53.408125  -1.389972\n",
       "71362    53.367687  -1.467799\n",
       "...            ...        ...\n",
       "1378785  53.407330  -1.452217\n",
       "1378786  53.414058  -1.402391\n",
       "1378787  53.396957  -1.419865\n",
       "1378788  53.328154  -1.516189\n",
       "1378789  53.387728  -1.409450\n",
       "\n",
       "[12513 rows x 2 columns]"
      ]
     },
     "execution_count": 19,
     "metadata": {},
     "output_type": "execute_result"
    }
   ],
   "source": [
    "district_locs = district[[\"Latitude\",\"Longitude\"]]\n",
    "district_locs"
   ]
  },
  {
   "cell_type": "code",
   "execution_count": 21,
   "metadata": {},
   "outputs": [
    {
     "data": {
      "text/plain": [
       "True"
      ]
     },
     "execution_count": 21,
     "metadata": {},
     "output_type": "execute_result"
    }
   ],
   "source": [
    "import folium\n",
    "import pandas as pd\n",
    "import webbrowser\n",
    "new = 2\n",
    "# Create a map centered around an initial point\n",
    "m = folium.Map(location=[district_locs[\"Latitude\"].mean(), district_locs[\"Longitude\"].mean()], zoom_start=12, prefer_canvas=True)\n",
    "\n",
    "# Add a marker for each data point (you may want to subsample or aggregate your data)\n",
    "for index, row in district_locs.iterrows():\n",
    "    folium.CircleMarker(\n",
    "        location=[row[\"Latitude\"], row[\"Longitude\"]],\n",
    "        radius=3,  # Adjust the radius as needed\n",
    "        fill=True,  # Fill the circle\n",
    "        color=\"blue\",  # Circle color\n",
    "        fill_color=\"blue\",  # Fill color\n",
    "    ).add_to(m)\n",
    "\n",
    "url = str(code.values[0])+ \"_map.html\"\n",
    "webbrowser.open(url,new=new)"
   ]
  },
  {
   "cell_type": "code",
   "execution_count": 22,
   "metadata": {},
   "outputs": [],
   "source": [
    "# Save\n",
    "m.save(str(code.values[0])+ \"_map.html\")"
   ]
  },
  {
   "cell_type": "markdown",
   "metadata": {},
   "source": [
    "### Kensington_and_Chelsea District (E09000020) Accidents in Map"
   ]
  },
  {
   "cell_type": "code",
   "execution_count": 23,
   "metadata": {},
   "outputs": [],
   "source": [
    "Kensington_and_Chelsea = data_geo[data_geo[\"Local_Authority_(Highway)\"] == code.values[0]]"
   ]
  },
  {
   "cell_type": "code",
   "execution_count": 24,
   "metadata": {},
   "outputs": [],
   "source": [
    "KnC_locs = Kensington_and_Chelsea[[\"Latitude\",\"Longitude\"]]"
   ]
  },
  {
   "cell_type": "code",
   "execution_count": 25,
   "metadata": {},
   "outputs": [],
   "source": [
    "# KnC_locs.to_csv(r\"data\\KnC_locs.csv\")"
   ]
  },
  {
   "cell_type": "code",
   "execution_count": 81,
   "metadata": {},
   "outputs": [
    {
     "data": {
      "text/plain": [
       "True"
      ]
     },
     "execution_count": 81,
     "metadata": {},
     "output_type": "execute_result"
    }
   ],
   "source": [
    "import folium\n",
    "import pandas as pd\n",
    "\n",
    "# Create a map centered around an initial point\n",
    "m = folium.Map(location=[KnC_locs[\"Latitude\"].mean(), KnC_locs[\"Longitude\"].mean()], zoom_start=15, prefer_canvas=True)\n",
    "\n",
    "# Add a marker for each data point (you may want to subsample or aggregate your data)\n",
    "for index, row in KnC_locs.iterrows():\n",
    "    folium.CircleMarker(\n",
    "        location=[row[\"Latitude\"], row[\"Longitude\"]],\n",
    "        radius=3,  # Adjust the radius as needed\n",
    "        fill=True,  # Fill the circle\n",
    "        color=\"blue\",  # Circle color\n",
    "        fill_color=\"blue\",  # Fill color\n",
    "    ).add_to(m)\n",
    "\n",
    "url = \"E09000020_map.html\"\n",
    "webbrowser.open(url,new=new)"
   ]
  },
  {
   "cell_type": "code",
   "execution_count": 28,
   "metadata": {},
   "outputs": [],
   "source": [
    "# Save\n",
    "m.save(\"E09000020_map.html\")"
   ]
  },
  {
   "cell_type": "markdown",
   "metadata": {},
   "source": [
    "### Map Visualizations"
   ]
  },
  {
   "cell_type": "code",
   "execution_count": 29,
   "metadata": {},
   "outputs": [],
   "source": [
    "import pandas as pd\n",
    "import numpy as np\n",
    "import seaborn as sns\n",
    "import matplotlib.pyplot as plt\n",
    "from tqdm import tqdm\n",
    "from sklearn.cluster import KMeans, DBSCAN\n",
    "from sklearn.metrics import silhouette_score\n",
    "from sklearn.datasets import make_blobs\n",
    "from sklearn.neighbors import KNeighborsClassifier\n",
    "from ipywidgets import interactive\n",
    "from collections import defaultdict\n",
    "import hdbscan\n",
    "import folium\n",
    "import re\n",
    "cols = [\"#e6194b\", \"#3cb44b\", \"#ffe119\", \"#4363d8\", \"#f58231\", \"#911eb4\",\n",
    "        \"#46f0f0\", \"#f032e6\", \"#bcf60c\", \"#fabebe\", \"#008080\", \"#e6beff\", \n",
    "        \"#9a6324\", \"#fffac8\", \"#800000\", \"#aaffc3\", \"#808000\", \"#ffd8b1\", \n",
    "        \"#000075\", \"#808080\"]*10\n",
    "sns.set(style=\"white\")"
   ]
  },
  {
   "cell_type": "code",
   "execution_count": 62,
   "metadata": {},
   "outputs": [
    {
     "data": {
      "text/plain": [
       "<matplotlib.collections.PathCollection at 0x1f7ba2e0e90>"
      ]
     },
     "execution_count": 62,
     "metadata": {},
     "output_type": "execute_result"
    },
    {
     "data": {
      "image/png": "[encoded data removed]",
      "text/plain": [
       "<Figure size 640x480 with 1 Axes>"
      ]
     },
     "metadata": {},
     "output_type": "display_data"
    }
   ],
   "source": [
    "X = np.array(KnC_locs[[\"Latitude\", \"Longitude\"]], dtype=\"float64\")\n",
    "plt.scatter(X[:,0], X[:,1], alpha=0.2, s=50)"
   ]
  },
  {
   "cell_type": "code",
   "execution_count": 80,
   "metadata": {},
   "outputs": [
    {
     "data": {
      "text/plain": [
       "True"
      ]
     },
     "execution_count": 80,
     "metadata": {},
     "output_type": "execute_result"
    }
   ],
   "source": [
    "import pandas as pd\n",
    "import folium\n",
    "from folium.plugins import MarkerCluster\n",
    "\n",
    "# Create a dataframe from your data\n",
    "KnC = KnC_locs\n",
    "\n",
    "# Initialize a map centered around the first data point\n",
    "map_center = [KnC[\"Latitude\"].iloc[0], KnC[\"Longitude\"].iloc[0]]\n",
    "m = folium.Map(location=map_center, zoom_start=12)\n",
    "\n",
    "# Create a MarkerCluster layer for the clustered points\n",
    "marker_cluster = MarkerCluster().add_to(m)\n",
    "\n",
    "# Add markers for each data point with cluster labels\n",
    "for _, row in KnC.iterrows():\n",
    "    folium.Marker([row[\"Latitude\"], row[\"Longitude\"]], icon=None).add_to(marker_cluster)\n",
    "\n",
    "url = \"KnC.html\"\n",
    "webbrowser.open(url,new=new)"
   ]
  },
  {
   "cell_type": "code",
   "execution_count": 64,
   "metadata": {},
   "outputs": [],
   "source": [
    "# Save the map to an HTML file\n",
    "m.save(\"KnC.html\")"
   ]
  },
  {
   "cell_type": "markdown",
   "metadata": {},
   "source": [
    "### Cluster with DBSCAN"
   ]
  },
  {
   "cell_type": "code",
   "execution_count": 65,
   "metadata": {},
   "outputs": [],
   "source": [
    "import numpy as np\n",
    "import pandas as pd\n",
    "import seaborn as sns\n",
    "import matplotlib.pyplot as plt\n",
    "import matplotlib.cm as cm\n",
    "from sklearn.cluster import DBSCAN\n",
    "import random"
   ]
  },
  {
   "cell_type": "code",
   "execution_count": 66,
   "metadata": {},
   "outputs": [],
   "source": [
    "X_train = district_locs"
   ]
  },
  {
   "cell_type": "code",
   "execution_count": 67,
   "metadata": {},
   "outputs": [],
   "source": [
    "clustering = DBSCAN(eps=0.0006, min_samples=4).fit(X_train)\n",
    "DBSCAN_dataset = X_train.copy()\n",
    "DBSCAN_dataset.loc[:,\"Cluster\"] = clustering.labels_ "
   ]
  },
  {
   "cell_type": "code",
   "execution_count": 68,
   "metadata": {},
   "outputs": [],
   "source": [
    "data2 = DBSCAN_dataset"
   ]
  },
  {
   "cell_type": "code",
   "execution_count": 82,
   "metadata": {},
   "outputs": [
    {
     "data": {
      "text/plain": [
       "True"
      ]
     },
     "execution_count": 82,
     "metadata": {},
     "output_type": "execute_result"
    }
   ],
   "source": [
    "# Create a map centered around a specific location (e.g., San Francisco)\n",
    "m = folium.Map(location=[district_locs[\"Latitude\"].mean(), district_locs[\"Longitude\"].mean()], zoom_start=12, prefer_canvas=True)\n",
    "\n",
    "# Define colors for clusters\n",
    "num_clusters = 120\n",
    "# Generate a list of distinct colors using a colormap\n",
    "colors = cm.viridis(np.linspace(0, 1, num_clusters))\n",
    "\n",
    "# Convert the colors to hexadecimal format\n",
    "cluster_colors = {i + 1: \"#{:02x}{:02x}{:02x}\".format(int(c[0] * 255), int(c[1] * 255), int(c[2] * 255)) for i, c in enumerate(colors)}\n",
    "\n",
    "# Add markers to the map with cluster-based colors\n",
    "for index, row in data2.iterrows():\n",
    "    cluster = row[\"Cluster\"]\n",
    "    color = cluster_colors.get(cluster, \"gray\")\n",
    "    folium.CircleMarker(location=(row[\"Latitude\"], row[\"Longitude\"]),\n",
    "                        color=color,\n",
    "                        fill=True,\n",
    "                        fill_color=color,\n",
    "                        radius=3).add_to(m)\n",
    "\n",
    "url = str(code.values[0])+ \"_kmeansclustermap.html\"\n",
    "webbrowser.open(url,new=new)"
   ]
  },
  {
   "cell_type": "code",
   "execution_count": 70,
   "metadata": {},
   "outputs": [],
   "source": [
    "# save\n",
    "m.save(str(code.values[0])+ \"_kmeansclustermap.html\")"
   ]
  },
  {
   "cell_type": "markdown",
   "metadata": {},
   "source": [
    "### Cluster with K-Means"
   ]
  },
  {
   "cell_type": "code",
   "execution_count": 71,
   "metadata": {},
   "outputs": [],
   "source": [
    "import pandas as pd\n",
    "import folium\n",
    "from sklearn.cluster import KMeans\n",
    "import math "
   ]
  },
  {
   "cell_type": "code",
   "execution_count": 72,
   "metadata": {},
   "outputs": [],
   "source": [
    "# Load your data into a pandas dataframe\n",
    "data1 = district_locs\n",
    "# Extract the latitude and longitude columns\n",
    "X = data1[[\"Latitude\", \"Longitude\"]]"
   ]
  },
  {
   "cell_type": "code",
   "execution_count": 73,
   "metadata": {},
   "outputs": [],
   "source": [
    "# Specify the number of clusters (k)\n",
    "k = round(math.sqrt(len(X)/2))  # You can adjust this based on your requirements"
   ]
  },
  {
   "cell_type": "code",
   "execution_count": 74,
   "metadata": {},
   "outputs": [
    {
     "name": "stderr",
     "output_type": "stream",
     "text": [
      "c:\\Users\\kdrer\\AppData\\Local\\Programs\\Python\\Python311\\Lib\\site-packages\\sklearn\\cluster\\_kmeans.py:1416: FutureWarning: The default value of `n_init` will change from 10 to 'auto' in 1.4. Set the value of `n_init` explicitly to suppress the warning\n",
      "  super()._check_params_vs_input(X, default_n_init=10)\n"
     ]
    },
    {
     "data": {
      "text/html": [
       "<style>#sk-container-id-2 {color: black;}#sk-container-id-2 pre{padding: 0;}#sk-container-id-2 div.sk-toggleable {background-color: white;}#sk-container-id-2 label.sk-toggleable__label {cursor: pointer;display: block;width: 100%;margin-bottom: 0;padding: 0.3em;box-sizing: border-box;text-align: center;}#sk-container-id-2 label.sk-toggleable__label-arrow:before {content: \"▸\";float: left;margin-right: 0.25em;color: #696969;}#sk-container-id-2 label.sk-toggleable__label-arrow:hover:before {color: black;}#sk-container-id-2 div.sk-estimator:hover label.sk-toggleable__label-arrow:before {color: black;}#sk-container-id-2 div.sk-toggleable__content {max-height: 0;max-width: 0;overflow: hidden;text-align: left;background-color: #f0f8ff;}#sk-container-id-2 div.sk-toggleable__content pre {margin: 0.2em;color: black;border-radius: 0.25em;background-color: #f0f8ff;}#sk-container-id-2 input.sk-toggleable__control:checked~div.sk-toggleable__content {max-height: 200px;max-width: 100%;overflow: auto;}#sk-container-id-2 input.sk-toggleable__control:checked~label.sk-toggleable__label-arrow:before {content: \"▾\";}#sk-container-id-2 div.sk-estimator input.sk-toggleable__control:checked~label.sk-toggleable__label {background-color: #d4ebff;}#sk-container-id-2 div.sk-label input.sk-toggleable__control:checked~label.sk-toggleable__label {background-color: #d4ebff;}#sk-container-id-2 input.sk-hidden--visually {border: 0;clip: rect(1px 1px 1px 1px);clip: rect(1px, 1px, 1px, 1px);height: 1px;margin: -1px;overflow: hidden;padding: 0;position: absolute;width: 1px;}#sk-container-id-2 div.sk-estimator {font-family: monospace;background-color: #f0f8ff;border: 1px dotted black;border-radius: 0.25em;box-sizing: border-box;margin-bottom: 0.5em;}#sk-container-id-2 div.sk-estimator:hover {background-color: #d4ebff;}#sk-container-id-2 div.sk-parallel-item::after {content: \"\";width: 100%;border-bottom: 1px solid gray;flex-grow: 1;}#sk-container-id-2 div.sk-label:hover label.sk-toggleable__label {background-color: #d4ebff;}#sk-container-id-2 div.sk-serial::before {content: \"\";position: absolute;border-left: 1px solid gray;box-sizing: border-box;top: 0;bottom: 0;left: 50%;z-index: 0;}#sk-container-id-2 div.sk-serial {display: flex;flex-direction: column;align-items: center;background-color: white;padding-right: 0.2em;padding-left: 0.2em;position: relative;}#sk-container-id-2 div.sk-item {position: relative;z-index: 1;}#sk-container-id-2 div.sk-parallel {display: flex;align-items: stretch;justify-content: center;background-color: white;position: relative;}#sk-container-id-2 div.sk-item::before, #sk-container-id-2 div.sk-parallel-item::before {content: \"\";position: absolute;border-left: 1px solid gray;box-sizing: border-box;top: 0;bottom: 0;left: 50%;z-index: -1;}#sk-container-id-2 div.sk-parallel-item {display: flex;flex-direction: column;z-index: 1;position: relative;background-color: white;}#sk-container-id-2 div.sk-parallel-item:first-child::after {align-self: flex-end;width: 50%;}#sk-container-id-2 div.sk-parallel-item:last-child::after {align-self: flex-start;width: 50%;}#sk-container-id-2 div.sk-parallel-item:only-child::after {width: 0;}#sk-container-id-2 div.sk-dashed-wrapped {border: 1px dashed gray;margin: 0 0.4em 0.5em 0.4em;box-sizing: border-box;padding-bottom: 0.4em;background-color: white;}#sk-container-id-2 div.sk-label label {font-family: monospace;font-weight: bold;display: inline-block;line-height: 1.2em;}#sk-container-id-2 div.sk-label-container {text-align: center;}#sk-container-id-2 div.sk-container {/* jupyter's `normalize.less` sets `[hidden] { display: none; }` but bootstrap.min.css set `[hidden] { display: none !important; }` so we also need the `!important` here to be able to override the default hidden behavior on the sphinx rendered scikit-learn.org. See: https://github.com/scikit-learn/scikit-learn/issues/21755 */display: inline-block !important;position: relative;}#sk-container-id-2 div.sk-text-repr-fallback {display: none;}</style><div id=\"sk-container-id-2\" class=\"sk-top-container\"><div class=\"sk-text-repr-fallback\"><pre>KMeans(n_clusters=79, random_state=42)</pre><b>In a Jupyter environment, please rerun this cell to show the HTML representation or trust the notebook. <br />On GitHub, the HTML representation is unable to render, please try loading this page with nbviewer.org.</b></div><div class=\"sk-container\" hidden><div class=\"sk-item\"><div class=\"sk-estimator sk-toggleable\"><input class=\"sk-toggleable__control sk-hidden--visually\" id=\"sk-estimator-id-2\" type=\"checkbox\" checked><label for=\"sk-estimator-id-2\" class=\"sk-toggleable__label sk-toggleable__label-arrow\">KMeans</label><div class=\"sk-toggleable__content\"><pre>KMeans(n_clusters=79, random_state=42)</pre></div></div></div></div></div>"
      ],
      "text/plain": [
       "KMeans(n_clusters=79, random_state=42)"
      ]
     },
     "execution_count": 74,
     "metadata": {},
     "output_type": "execute_result"
    }
   ],
   "source": [
    "# Create a KMeans model\n",
    "kmeans = KMeans(n_clusters=k, random_state=42)\n",
    "\n",
    "# Fit the model to your data\n",
    "kmeans.fit(X)"
   ]
  },
  {
   "cell_type": "code",
   "execution_count": 75,
   "metadata": {},
   "outputs": [
    {
     "name": "stderr",
     "output_type": "stream",
     "text": [
      "C:\\Users\\kdrer\\AppData\\Local\\Temp\\ipykernel_1856\\3088334225.py:2: SettingWithCopyWarning: \n",
      "A value is trying to be set on a copy of a slice from a DataFrame.\n",
      "Try using .loc[row_indexer,col_indexer] = value instead\n",
      "\n",
      "See the caveats in the documentation: https://pandas.pydata.org/pandas-docs/stable/user_guide/indexing.html#returning-a-view-versus-a-copy\n",
      "  data1[\"Cluster\"] = kmeans.labels_\n"
     ]
    }
   ],
   "source": [
    "# Add the cluster labels to your dataframe\n",
    "data1[\"Cluster\"] = kmeans.labels_"
   ]
  },
  {
   "cell_type": "code",
   "execution_count": 78,
   "metadata": {},
   "outputs": [
    {
     "data": {
      "text/plain": [
       "True"
      ]
     },
     "execution_count": 78,
     "metadata": {},
     "output_type": "execute_result"
    }
   ],
   "source": [
    "m = folium.Map(location=[district_locs[\"Latitude\"].mean(), district_locs[\"Longitude\"].mean()], zoom_start=12, prefer_canvas=True)\n",
    "\n",
    "# Create points with different random colors for each cluster\n",
    "cluster_colors = {}\n",
    "for _, row in data1.iterrows():\n",
    "    cluster_label = row[\"Cluster\"]\n",
    "    if cluster_label not in cluster_colors:\n",
    "        cluster_colors[cluster_label] = \"#{:02x}{:02x}{:02x}\".format(random.randint(0, 255), random.randint(0, 255), random.randint(0, 255))\n",
    "    color = cluster_colors[cluster_label]\n",
    "    folium.Circle(location=[row[\"Latitude\"], row[\"Longitude\"]], radius=2, color=color, fill=True, fill_color=color, fill_opacity=0.6, popup=f\"Cluster {cluster_label}\").add_to(m)\n",
    "\n",
    "url = str(code.values[0])+ \"_kmeansclustermap.html\"\n",
    "# webbrowser.open(url,new=new)\n",
    "webbrowser.open(url,new=new)"
   ]
  },
  {
   "cell_type": "code",
   "execution_count": 77,
   "metadata": {},
   "outputs": [],
   "source": [
    "# Save the map to an HTML file\n",
    "m.save(str(code.values[0])+ \"_kmeansclustermap.html\")"
   ]
  }
 ],
 "metadata": {
  "kernelspec": {
   "display_name": "Python 3",
   "language": "python",
   "name": "python3"
  },
  "language_info": {
   "codemirror_mode": {
    "name": "ipython",
    "version": 3
   },
   "file_extension": ".py",
   "mimetype": "text/x-python",
   "name": "python",
   "nbconvert_exporter": "python",
   "pygments_lexer": "ipython3",
   "version": "3.11.5"
  },
  "orig_nbformat": 4
 },
 "nbformat": 4,
 "nbformat_minor": 2
}
